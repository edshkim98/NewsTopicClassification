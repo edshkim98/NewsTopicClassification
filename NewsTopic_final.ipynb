{
 "cells": [
  {
   "cell_type": "code",
   "execution_count": 48,
   "metadata": {},
   "outputs": [],
   "source": [
    "import torch\n",
    "import torch.nn as nn\n",
    "import torch.optim as optim\n",
    "import torch.nn.functional as F\n",
    "from torch.nn.utils.rnn import pack_padded_sequence, pad_packed_sequence\n",
    "import torch.optim as optim\n",
    "\n",
    "from torchtext.data import Field, BucketIterator, TabularDataset, BucketIterator,Example\n",
    "\n",
    "import matplotlib.pyplot as plt\n",
    "import matplotlib.ticker as ticker\n",
    "\n",
    "import spacy\n",
    "import numpy as np\n",
    "import pandas as pd\n",
    "\n",
    "import random\n",
    "import math\n",
    "import time\n",
    "import os\n",
    "\n",
    "path = '/home/edshkim98/nlp/classification/bbc/' #location of dataset\n",
    "source_folder = '/home/edshkim98/nlp/classification/' #location of code file\n",
    "destination_folder = source_folder+'pretrained' #location of saved pretrained model"
   ]
  },
  {
   "cell_type": "code",
   "execution_count": 49,
   "metadata": {},
   "outputs": [],
   "source": [
    "from sklearn.model_selection import train_test_split\n",
    "from sklearn.utils import shuffle\n",
    "import glob"
   ]
  },
  {
   "cell_type": "code",
   "execution_count": 50,
   "metadata": {},
   "outputs": [],
   "source": [
    "torch.manual_seed(42)\n",
    "torch.cuda.manual_seed(42)\n",
    "random.seed(42)\n",
    "np.random.seed(42)"
   ]
  },
  {
   "cell_type": "code",
   "execution_count": 51,
   "metadata": {},
   "outputs": [
    {
     "data": {
      "text/plain": [
       "['business', 'tech', 'politics', 'sport', 'entertainment']"
      ]
     },
     "execution_count": 51,
     "metadata": {},
     "output_type": "execute_result"
    }
   ],
   "source": [
    "data = path+'/News Articles/'\n",
    "data2 = path+'/Summaries/'\n",
    "\n",
    "os.listdir(data)"
   ]
  },
  {
   "cell_type": "markdown",
   "metadata": {},
   "source": [
    "# MODELS"
   ]
  },
  {
   "cell_type": "code",
   "execution_count": 83,
   "metadata": {},
   "outputs": [],
   "source": [
    "class LSTM(nn.Module):\n",
    "\n",
    "    def __init__(self, dimension=256):\n",
    "        super(LSTM, self).__init__()\n",
    "        self.embedding = nn.Embedding.from_pretrained(text_field.vocab.vectors, freeze=False)\n",
    "        #self.embedding = nn.Embedding(len(text_field.vocab), 300)\n",
    "        self.dimension = dimension\n",
    "        self.lstm = nn.LSTM(input_size=300,\n",
    "                            hidden_size=dimension,\n",
    "                            num_layers=1,\n",
    "                            batch_first=True,\n",
    "                            bidirectional=True)\n",
    "        self.drop = nn.Dropout(p=0.2)\n",
    "\n",
    "        self.fc = nn.Linear(2*dimension, 5)\n",
    "\n",
    "    def forward(self, text, text_len):\n",
    "\n",
    "        text_emb = self.embedding(text)\n",
    "\n",
    "        packed_input = pack_padded_sequence(text_emb, text_len.cpu(), batch_first=True, enforce_sorted=False)\n",
    "        packed_output, _ = self.lstm(packed_input)\n",
    "        output, _ = pad_packed_sequence(packed_output, batch_first=True)\n",
    "        print(output.shape)\n",
    "        out_forward = output[range(len(output)), text_len - 1, :self.dimension]\n",
    "        print(out_forward.shape)\n",
    "        out_reverse = output[:, 0, self.dimension:]\n",
    "        print(out_reverse.shape)\n",
    "        out_reduced = torch.cat((out_forward, out_reverse), 1)\n",
    "        print(out_reduced.shape)\n",
    "        text_fea = self.drop(out_reduced)\n",
    "\n",
    "        out = self.fc(text_fea)\n",
    "        return out\n",
    "    \n",
    "class LSTM2(nn.Module):\n",
    "\n",
    "    def __init__(self, dimension=256):\n",
    "        super(LSTM2, self).__init__()\n",
    "        self.embedding = nn.Embedding.from_pretrained(text_field.vocab.vectors, freeze=False)\n",
    "        #self.embedding = nn.Embedding(len(text_field.vocab), 300)\n",
    "        self.dimension = dimension\n",
    "        self.lstm = nn.LSTM(input_size=300,\n",
    "                            hidden_size=dimension,\n",
    "                            num_layers=1,\n",
    "                            batch_first=True,\n",
    "                            bidirectional=False)\n",
    "        self.drop = nn.Dropout(p=0.2)\n",
    "\n",
    "        self.fc = nn.Linear(dimension, 5)\n",
    "\n",
    "    def forward(self, text, text_len):\n",
    "\n",
    "        text_emb = self.embedding(text)\n",
    "\n",
    "        packed_input = pack_padded_sequence(text_emb, text_len.cpu(), batch_first=True, enforce_sorted=False)\n",
    "        packed_output, _ = self.lstm(packed_input)\n",
    "        output, _ = pad_packed_sequence(packed_output, batch_first=True)\n",
    "\n",
    "        out_forward = output[range(len(output)), text_len - 1, :self.dimension]\n",
    "        out_reverse = output[:, 0, self.dimension:]\n",
    "        out_reduced = torch.cat((out_forward, out_reverse), 1)\n",
    "        text_fea = self.drop(out_reduced)\n",
    "        out = self.fc(text_fea)\n",
    "        return out\n",
    "    \n",
    "class GRU(nn.Module):\n",
    "\n",
    "    def __init__(self, dimension=256):\n",
    "        super(GRU, self).__init__()\n",
    "      #  self.embedding = nn.Embedding.from_pretrained(text_field.vocab.vectors, freeze=False)\n",
    "        self.embedding = nn.Embedding(len(text_field.vocab), 300)\n",
    "        self.dimension = dimension\n",
    "        self.lstm = nn.rnn(input_size=300,\n",
    "                            hidden_size=dimension,\n",
    "                            num_layers=1,\n",
    "                            batch_first=True,\n",
    "                            bidirectional=False)\n",
    "        self.drop = nn.Dropout(p=0.2)\n",
    "\n",
    "        self.fc = nn.Linear(dimension, 5)\n",
    "\n",
    "    def forward(self, text, text_len):\n",
    "\n",
    "        text_emb = self.embedding(text)\n",
    "\n",
    "        packed_input = pack_padded_sequence(text_emb, text_len.cpu(), batch_first=True, enforce_sorted=False)\n",
    "        packed_output, _ = self.rnn(packed_input)\n",
    "        output, _ = pad_packed_sequence(packed_output, batch_first=True)\n",
    "\n",
    "        out_forward = output[range(len(output)), text_len - 1, :self.dimension]\n",
    "        out_reverse = output[:, 0, self.dimension:]\n",
    "        out_reduced = torch.cat((out_forward, out_reverse), 1)\n",
    "        text_fea = self.drop(out_reduced)\n",
    "        out = self.fc(text_fea)\n",
    "        print(out)\n",
    "        return out"
   ]
  },
  {
   "cell_type": "markdown",
   "metadata": {},
   "source": [
    "# CHOOSE A MODEL AND TRAINING OPTIONS"
   ]
  },
  {
   "cell_type": "code",
   "execution_count": 53,
   "metadata": {},
   "outputs": [
    {
     "name": "stdout",
     "output_type": "stream",
     "text": [
      "CHOOSE A MODEL: \n",
      "GRU\n",
      "VALID MODEL\n",
      "CHOOSE AN OBJECTIVE FUNCTION (CE or FOCAL)\n",
      "CE\n",
      "VALID LOSS\n",
      "BIDIRECTIONAL = FALSE\n",
      "WORD EMBEDDING = FALSE\n",
      "LOSS: CE\n"
     ]
    }
   ],
   "source": [
    "#MODELS: LSTM, LSTM2, GRU\n",
    "models = ['LSTM','LSTM2','GRU']\n",
    "objs = ['CE', 'FOCAL']\n",
    "print(\"CHOOSE A MODEL: \")\n",
    "while 1:\n",
    "    model = input()\n",
    "    if model in models:\n",
    "        print(\"VALID MODEL\")\n",
    "    else:\n",
    "        print(\"INVALID MODEL\")\n",
    "        continue\n",
    "    print(\"CHOOSE AN OBJECTIVE FUNCTION (CE or FOCAL)\")\n",
    "    ls = input()\n",
    "    if ls in objs:\n",
    "        print(\"VALID LOSS\")\n",
    "        break\n",
    "    else:\n",
    "        print(\"INVALID LOSS\")\n",
    "        continue\n",
    "if model == 'LSTM':\n",
    "    print(\"BIDIRECTIONAL = TRUE\")\n",
    "    print(\"WORD EMBEDDING = TRUE\")\n",
    "    print(\"LOSS: {}\".format(ls))\n",
    "    word_embd = True\n",
    "else:\n",
    "    print(\"BIDIRECTIONAL = FALSE\")\n",
    "    print(\"WORD EMBEDDING = FALSE\")\n",
    "    print(\"LOSS: {}\".format(ls))\n",
    "    word_embd = False"
   ]
  },
  {
   "cell_type": "markdown",
   "metadata": {},
   "source": [
    "# Pre-processing"
   ]
  },
  {
   "cell_type": "code",
   "execution_count": 54,
   "metadata": {},
   "outputs": [
    {
     "data": {
      "text/plain": [
       "2225"
      ]
     },
     "execution_count": 54,
     "metadata": {},
     "output_type": "execute_result"
    }
   ],
   "source": [
    "#Dont use summary data, cuz it's unfair\n",
    "all_files = glob.glob(data+'*/*')#+glob.glob(data+'*/*')\n",
    "summaries = glob.glob(data2+'*/*')\n",
    "len(all_files)"
   ]
  },
  {
   "cell_type": "code",
   "execution_count": 55,
   "metadata": {},
   "outputs": [],
   "source": [
    "labels = {\"business\":0,\"tech\":1, \"politics\":2, \"sport\":3, \"entertainment\":4}"
   ]
  },
  {
   "cell_type": "code",
   "execution_count": 56,
   "metadata": {},
   "outputs": [],
   "source": [
    "all_data = []\n",
    "for i in range(len(all_files)):\n",
    "    #print(i)\n",
    "    with open(all_files[i], encoding='latin1') as f:\n",
    "        lines = f.readlines()\n",
    "        lines = [line[:-1] for line in lines if line != '\\n']\n",
    "        lines = ' '.join(lines)\n",
    "    label = labels[all_files[i].split('/')[-2]]\n",
    "    all_data.append([lines,label])"
   ]
  },
  {
   "cell_type": "code",
   "execution_count": 57,
   "metadata": {},
   "outputs": [
    {
     "data": {
      "text/plain": [
       "[\"Net profit surged 70% to 2.39bn rupees ($54.98m; Â£29.32m) in the last three months of 2004 compared with 1.41bn rupees a year earlier.Profit was 1.33bn rupees compared with 874.2m rupees a year earlier.India's biggest carmaker Maruti has reported a sharp increase in quarterly profit after a booming economy and low interest rates boosted demand.Maruti accounts for half of India's domestic car sales, luring consumers with cheap, fuel-efficient vehicles.Utility vehicle and tractor maker Mahindra has reported a 52% rise in net profit during the last three months of 2004\",\n",
       " 0]"
      ]
     },
     "execution_count": 57,
     "metadata": {},
     "output_type": "execute_result"
    }
   ],
   "source": [
    "summaries_data = []\n",
    "for i in range(len(summaries)):\n",
    "    #print(i)\n",
    "    with open(summaries[i], encoding='latin1') as f:\n",
    "        lines = f.readlines()\n",
    "        lines = [line[:-1] for line in lines if line != '\\n']\n",
    "        lines = ' '.join(lines)\n",
    "    label = labels[summaries[i].split('/')[-2]]\n",
    "    summaries_data.append([lines,label])\n",
    "summaries_data[0]"
   ]
  },
  {
   "cell_type": "code",
   "execution_count": 58,
   "metadata": {},
   "outputs": [],
   "source": [
    "data = pd.DataFrame({\"label\": [i[1] for i in all_data], \"text\": [i[0] for i in all_data]})"
   ]
  },
  {
   "cell_type": "code",
   "execution_count": 59,
   "metadata": {},
   "outputs": [],
   "source": [
    "train_valid_ratio = 0.80\n",
    "first_n_words = 200 #Too large, so trime data to string[:150] -> kinda hyper parameter\n",
    "\n",
    "def trim_string(x):\n",
    "    x = x.split(maxsplit=first_n_words)\n",
    "    x = ' '.join(x[:first_n_words])\n",
    "    return x"
   ]
  },
  {
   "cell_type": "code",
   "execution_count": 60,
   "metadata": {},
   "outputs": [],
   "source": [
    "df = data.copy()\n",
    "df['text'] = df['text'].apply(trim_string)"
   ]
  },
  {
   "cell_type": "code",
   "execution_count": 61,
   "metadata": {},
   "outputs": [
    {
     "data": {
      "text/html": [
       "<div>\n",
       "<style scoped>\n",
       "    .dataframe tbody tr th:only-of-type {\n",
       "        vertical-align: middle;\n",
       "    }\n",
       "\n",
       "    .dataframe tbody tr th {\n",
       "        vertical-align: top;\n",
       "    }\n",
       "\n",
       "    .dataframe thead th {\n",
       "        text-align: right;\n",
       "    }\n",
       "</style>\n",
       "<table border=\"1\" class=\"dataframe\">\n",
       "  <thead>\n",
       "    <tr style=\"text-align: right;\">\n",
       "      <th></th>\n",
       "      <th>label</th>\n",
       "      <th>text</th>\n",
       "    </tr>\n",
       "  </thead>\n",
       "  <tbody>\n",
       "    <tr>\n",
       "      <th>414</th>\n",
       "      <td>0</td>\n",
       "      <td>S&amp;N extends Indian beer venture The UK's bigge...</td>\n",
       "    </tr>\n",
       "    <tr>\n",
       "      <th>420</th>\n",
       "      <td>0</td>\n",
       "      <td>Tsunami slows Sri Lanka's growth Sri Lanka's p...</td>\n",
       "    </tr>\n",
       "    <tr>\n",
       "      <th>1644</th>\n",
       "      <td>3</td>\n",
       "      <td>Call for Kenteris to be cleared Kostas Kenteri...</td>\n",
       "    </tr>\n",
       "    <tr>\n",
       "      <th>416</th>\n",
       "      <td>0</td>\n",
       "      <td>Chinese wine tempts Italy's Illva Italy's Illv...</td>\n",
       "    </tr>\n",
       "    <tr>\n",
       "      <th>1232</th>\n",
       "      <td>2</td>\n",
       "      <td>Could rivalry overshadow election? Tony Blair ...</td>\n",
       "    </tr>\n",
       "    <tr>\n",
       "      <th>...</th>\n",
       "      <td>...</td>\n",
       "      <td>...</td>\n",
       "    </tr>\n",
       "    <tr>\n",
       "      <th>1638</th>\n",
       "      <td>3</td>\n",
       "      <td>Britain boosted by Holmes double Athletics fan...</td>\n",
       "    </tr>\n",
       "    <tr>\n",
       "      <th>1095</th>\n",
       "      <td>2</td>\n",
       "      <td>Regiments' group in poll move A regiments' cam...</td>\n",
       "    </tr>\n",
       "    <tr>\n",
       "      <th>1130</th>\n",
       "      <td>2</td>\n",
       "      <td>Ministers deny care sums 'wrong' Ministers hav...</td>\n",
       "    </tr>\n",
       "    <tr>\n",
       "      <th>1294</th>\n",
       "      <td>2</td>\n",
       "      <td>MPs issued with Blackberry threat MPs will be ...</td>\n",
       "    </tr>\n",
       "    <tr>\n",
       "      <th>860</th>\n",
       "      <td>1</td>\n",
       "      <td>Musicians 'upbeat' about the net Musicians are...</td>\n",
       "    </tr>\n",
       "  </tbody>\n",
       "</table>\n",
       "<p>2225 rows × 2 columns</p>\n",
       "</div>"
      ],
      "text/plain": [
       "      label                                               text\n",
       "414       0  S&N extends Indian beer venture The UK's bigge...\n",
       "420       0  Tsunami slows Sri Lanka's growth Sri Lanka's p...\n",
       "1644      3  Call for Kenteris to be cleared Kostas Kenteri...\n",
       "416       0  Chinese wine tempts Italy's Illva Italy's Illv...\n",
       "1232      2  Could rivalry overshadow election? Tony Blair ...\n",
       "...     ...                                                ...\n",
       "1638      3  Britain boosted by Holmes double Athletics fan...\n",
       "1095      2  Regiments' group in poll move A regiments' cam...\n",
       "1130      2  Ministers deny care sums 'wrong' Ministers hav...\n",
       "1294      2  MPs issued with Blackberry threat MPs will be ...\n",
       "860       1  Musicians 'upbeat' about the net Musicians are...\n",
       "\n",
       "[2225 rows x 2 columns]"
      ]
     },
     "execution_count": 61,
     "metadata": {},
     "output_type": "execute_result"
    }
   ],
   "source": [
    "df = shuffle(df) #shuffle data\n",
    "df"
   ]
  },
  {
   "cell_type": "code",
   "execution_count": 64,
   "metadata": {},
   "outputs": [],
   "source": [
    "train, test = train_test_split(df, test_size=0.1, random_state=1)\n",
    "train, valid = train_test_split(train, test_size=0.1, random_state=1)"
   ]
  },
  {
   "cell_type": "code",
   "execution_count": 65,
   "metadata": {},
   "outputs": [
    {
     "data": {
      "text/plain": [
       "<BarContainer object of 5 artists>"
      ]
     },
     "execution_count": 65,
     "metadata": {},
     "output_type": "execute_result"
    },
    {
     "data": {
      "image/png": "[encoded data removed]",
      "text/plain": [
       "<Figure size 432x288 with 1 Axes>"
      ]
     },
     "metadata": {
      "needs_background": "light"
     },
     "output_type": "display_data"
    }
   ],
   "source": [
    "category, values = np.unique(train['label'].values, return_counts=True) #checking distribution\n",
    "plt.title(\"Distribution for training data\")\n",
    "plt.bar(category,values)"
   ]
  },
  {
   "cell_type": "code",
   "execution_count": 66,
   "metadata": {},
   "outputs": [
    {
     "data": {
      "text/plain": [
       "<BarContainer object of 5 artists>"
      ]
     },
     "execution_count": 66,
     "metadata": {},
     "output_type": "execute_result"
    },
    {
     "data": {
      "image/png": "[encoded data removed]",
      "text/plain": [
       "<Figure size 432x288 with 1 Axes>"
      ]
     },
     "metadata": {
      "needs_background": "light"
     },
     "output_type": "display_data"
    }
   ],
   "source": [
    "category, values = np.unique(test['label'].values, return_counts=True)\n",
    "plt.title(\"Distribution for test data\")\n",
    "plt.bar(category,values)"
   ]
  },
  {
   "cell_type": "code",
   "execution_count": 67,
   "metadata": {},
   "outputs": [
    {
     "data": {
      "text/plain": [
       "<BarContainer object of 5 artists>"
      ]
     },
     "execution_count": 67,
     "metadata": {},
     "output_type": "execute_result"
    },
    {
     "data": {
      "image/png": "[encoded data removed]",
      "text/plain": [
       "<Figure size 432x288 with 1 Axes>"
      ]
     },
     "metadata": {
      "needs_background": "light"
     },
     "output_type": "display_data"
    }
   ],
   "source": [
    "category, values = np.unique(valid['label'].values, return_counts=True)\n",
    "plt.title(\"Distribution for valid data\")\n",
    "plt.bar(category,values)"
   ]
  },
  {
   "cell_type": "code",
   "execution_count": 27,
   "metadata": {},
   "outputs": [],
   "source": [
    "# train.to_csv('/home/edshkim98/nlp/classification/train.csv', index=False)\n",
    "# valid.to_csv('/home/edshkim98/nlp/classification/valid.csv', index=False)\n",
    "# test.to_csv('/home/edshkim98/nlp/classification/test.csv', index=False)\n",
    "# train2, test2 = train.copy(), test.copy()"
   ]
  },
  {
   "cell_type": "code",
   "execution_count": 68,
   "metadata": {},
   "outputs": [],
   "source": [
    "from sklearn.metrics import accuracy_score, classification_report, confusion_matrix\n",
    "import seaborn as sns\n",
    "import spacy"
   ]
  },
  {
   "cell_type": "markdown",
   "metadata": {},
   "source": [
    "# FIELDS"
   ]
  },
  {
   "cell_type": "code",
   "execution_count": 69,
   "metadata": {},
   "outputs": [
    {
     "name": "stderr",
     "output_type": "stream",
     "text": [
      "/home/edshkim98/env/lib/python3.7/site-packages/torchtext/data/field.py:150: UserWarning: Field class will be retired soon and moved to torchtext.legacy. Please see the most recent release notes for further information.\n",
      "  warnings.warn('{} class will be retired soon and moved to torchtext.legacy. Please see the most recent release notes for further information.'.format(self.__class__.__name__), UserWarning)\n"
     ]
    }
   ],
   "source": [
    "# Fields\n",
    "label_field = Field(sequential=False, use_vocab=False, batch_first=True, dtype=torch.float)\n",
    "text_field = Field(lower=True, include_lengths=True, batch_first=True)\n",
    "fields = [('label', label_field), ('text', text_field)]"
   ]
  },
  {
   "cell_type": "code",
   "execution_count": 70,
   "metadata": {},
   "outputs": [],
   "source": [
    "train=pd.read_csv('/home/edshkim98/nlp/classification/train.csv')\n",
    "valid=pd.read_csv('/home/edshkim98/nlp/classification/valid.csv')\n",
    "test=pd.read_csv('/home/edshkim98/nlp/classification/test.csv')"
   ]
  },
  {
   "cell_type": "markdown",
   "metadata": {},
   "source": [
    "# WORD EMBEDDINGS"
   ]
  },
  {
   "cell_type": "code",
   "execution_count": 71,
   "metadata": {},
   "outputs": [],
   "source": [
    "from torchtext.vocab import GloVe"
   ]
  },
  {
   "cell_type": "markdown",
   "metadata": {},
   "source": [
    "# DATALOADER"
   ]
  },
  {
   "cell_type": "code",
   "execution_count": 72,
   "metadata": {},
   "outputs": [
    {
     "name": "stderr",
     "output_type": "stream",
     "text": [
      "/home/edshkim98/env/lib/python3.7/site-packages/torchtext/data/example.py:68: UserWarning: Example class will be retired soon and moved to torchtext.legacy. Please see the most recent release notes for further information.\n",
      "  warnings.warn('Example class will be retired soon and moved to torchtext.legacy. Please see the most recent release notes for further information.', UserWarning)\n",
      "/home/edshkim98/env/lib/python3.7/site-packages/torchtext/data/example.py:78: UserWarning: Example class will be retired soon and moved to torchtext.legacy. Please see the most recent release notes for further information.\n",
      "  warnings.warn('Example class will be retired soon and moved to torchtext.legacy. Please see the most recent release notes for further information.', UserWarning)\n",
      "/home/edshkim98/env/lib/python3.7/site-packages/torchtext/data/iterator.py:48: UserWarning: BucketIterator class will be retired soon and moved to torchtext.legacy. Please see the most recent release notes for further information.\n",
      "  warnings.warn('{} class will be retired soon and moved to torchtext.legacy. Please see the most recent release notes for further information.'.format(self.__class__.__name__), UserWarning)\n"
     ]
    }
   ],
   "source": [
    "# TabularDataset\n",
    "train_data, valid_data,test_data = TabularDataset.splits(path=source_folder, train='train.csv', validation='valid.csv', test='test.csv'\n",
    "                                          ,format='CSV', fields=fields, skip_header=True)\n",
    "# Iterators\n",
    "device = torch.device(\"cuda:0\" if torch.cuda.is_available() else \"cpu\")\n",
    "train_iter = BucketIterator(train_data, batch_size=16, sort_key=lambda x: len(x.text),\n",
    "                            device=device, sort=True, sort_within_batch=True)\n",
    "valid_iter = BucketIterator(valid_data, batch_size=16, sort_key=lambda x: len(x.text),\n",
    "                            device=device, sort=True, sort_within_batch=True)\n",
    "sample_iter = BucketIterator(test_data, batch_size=16, sort_key=lambda x: len(x.text),\n",
    "                            device=device, sort=True, sort_within_batch=True)\n",
    "\n",
    "# Vocabulary\n",
    "\n",
    "if word_embd:\n",
    "    glove = GloVe(name='6B', dim=300)\n",
    "    text_field.build_vocab(train_data, min_freq=3,vectors = glove)\n",
    "else:\n",
    "    text_field.build_vocab(train_data, min_freq=3)\n"
   ]
  },
  {
   "cell_type": "code",
   "execution_count": 73,
   "metadata": {},
   "outputs": [
    {
     "data": {
      "text/plain": [
       "11661"
      ]
     },
     "execution_count": 73,
     "metadata": {},
     "output_type": "execute_result"
    }
   ],
   "source": [
    "len(text_field.vocab)"
   ]
  },
  {
   "cell_type": "markdown",
   "metadata": {},
   "source": [
    "# UTILS"
   ]
  },
  {
   "cell_type": "code",
   "execution_count": 74,
   "metadata": {},
   "outputs": [],
   "source": [
    "# Save and Load Functions\n",
    "\n",
    "def save_checkpoint(save_path, model, optimizer, valid_loss):\n",
    "\n",
    "    if save_path == None:\n",
    "        return\n",
    "    \n",
    "    state_dict = {'model_state_dict': model.state_dict(),\n",
    "                  'optimizer_state_dict': optimizer.state_dict(),\n",
    "                  'valid_loss': valid_loss}\n",
    "    \n",
    "    torch.save(state_dict, save_path)\n",
    "    print(f'Model saved to ==> {save_path}')\n",
    "\n",
    "\n",
    "def load_checkpoint(load_path, model, optimizer, device):\n",
    "\n",
    "    if load_path==None:\n",
    "        return\n",
    "    \n",
    "    state_dict = torch.load(load_path, map_location=device)\n",
    "    print(f'Model loaded from <== {load_path}')\n",
    "    \n",
    "    model.load_state_dict(state_dict['model_state_dict'])\n",
    "    optimizer.load_state_dict(state_dict['optimizer_state_dict'])\n",
    "    \n",
    "    return state_dict['valid_loss']\n",
    "\n",
    "\n",
    "def save_metrics(save_path, train_loss_list, valid_loss_list, global_steps_list):\n",
    "\n",
    "    if save_path == None:\n",
    "        return\n",
    "    \n",
    "    state_dict = {'train_loss_list': train_loss_list,\n",
    "                  'valid_loss_list': valid_loss_list,\n",
    "                  'global_steps_list': global_steps_list}\n",
    "    \n",
    "    torch.save(state_dict, save_path)\n",
    "    print(f'Model saved to ==> {save_path}')\n",
    "\n",
    "\n",
    "def load_metrics(load_path):\n",
    "\n",
    "    if load_path==None:\n",
    "        return\n",
    "    \n",
    "    state_dict = torch.load(load_path, map_location=device)\n",
    "    print(f'Model loaded from <== {load_path}')\n",
    "    \n",
    "    return state_dict['train_loss_list'], state_dict['valid_loss_list'], state_dict['global_steps_list']"
   ]
  },
  {
   "cell_type": "markdown",
   "metadata": {},
   "source": [
    "# LOSS FUNCTIONS"
   ]
  },
  {
   "cell_type": "code",
   "execution_count": 75,
   "metadata": {},
   "outputs": [],
   "source": [
    "class FocalLoss(nn.modules.loss._WeightedLoss):\n",
    "    def __init__(self, weight=torch.tensor([0.8,1.0,1.0,0.8,1.0]), gamma=2,reduction='mean'):\n",
    "        super(FocalLoss, self).__init__(weight,reduction=reduction)\n",
    "        self.gamma = gamma\n",
    "        self.device = torch.device(\"cuda:0\" if torch.cuda.is_available() else \"cpu\")\n",
    "        self.weight = weight.to(device)\n",
    "\n",
    "    def forward(self, input, target):\n",
    "\n",
    "        ce_loss = F.cross_entropy(input, target,reduction=self.reduction,weight=self.weight) \n",
    "        pt = torch.exp(-ce_loss)\n",
    "        focal_loss = ((1 - pt) ** self.gamma * ce_loss).mean()\n",
    "        return focal_loss\n",
    "    "
   ]
  },
  {
   "cell_type": "markdown",
   "metadata": {},
   "source": [
    "# TRAIN"
   ]
  },
  {
   "cell_type": "code",
   "execution_count": 86,
   "metadata": {},
   "outputs": [],
   "source": [
    "def train(model,\n",
    "          optimizer,\n",
    "          train_loader = train_iter,\n",
    "          valid_loader = valid_iter,\n",
    "          loss_func = ls,\n",
    "          num_epochs = 10,\n",
    "          eval_every = len(train_iter),\n",
    "          file_path = source_folder+'/pretrained/',\n",
    "          best_valid_loss = float(\"Inf\")):\n",
    "    \n",
    "    if ls == 'FOCAL':\n",
    "        criterion = FocalLoss()\n",
    "    else:\n",
    "        criterion = nn.CrossEntropyLoss()\n",
    "    # initialize running values\n",
    "    running_loss = 0.0\n",
    "    valid_running_loss = 0.0\n",
    "    global_step = 0\n",
    "    train_loss_list = []\n",
    "    valid_loss_list = []\n",
    "    global_steps_list = []\n",
    "    patience = 0\n",
    "    # training loop\n",
    "    model.train()\n",
    "    for epoch in range(num_epochs):\n",
    "        for (labels, (text, text_len)), _ in train_loader:           \n",
    "            labels = labels.long().to(device)\n",
    "            titletext = text.to(device)\n",
    "            titletext_len = text_len.to(device)\n",
    "            output = model(titletext, titletext_len)\n",
    "            loss = criterion(output, labels)\n",
    "            optimizer.zero_grad()\n",
    "            loss.backward()\n",
    "            optimizer.step()\n",
    "\n",
    "            # update running values\n",
    "            running_loss += loss.item()\n",
    "            global_step += 1\n",
    "\n",
    "            # evaluation step\n",
    "            if global_step % eval_every == 0:\n",
    "                model.eval()\n",
    "                with torch.no_grad():\n",
    "                    \n",
    "                  # validation loop\n",
    "                    for (labels, (text, text_len)), _ in valid_loader:\n",
    "                        labels = labels.long().to(device)\n",
    "                        titletext = text.to(device)\n",
    "                        titletext_len = text_len.to(device)\n",
    "                        output = model(titletext, titletext_len)\n",
    "\n",
    "                        loss = criterion(output, labels)\n",
    "                        valid_running_loss += loss.item()\n",
    "                        _, predicted = torch.max(output, 1)\n",
    "\n",
    "                print(predicted)\n",
    "                average_train_loss = running_loss / eval_every\n",
    "                average_valid_loss = valid_running_loss / len(valid_loader)\n",
    "                train_loss_list.append(average_train_loss)\n",
    "                valid_loss_list.append(average_valid_loss)\n",
    "                global_steps_list.append(global_step)\n",
    "\n",
    "                # resetting running values\n",
    "                running_loss = 0.0                \n",
    "                valid_running_loss = 0.0\n",
    "                model.train()\n",
    "\n",
    "                # print progress\n",
    "                print('Epoch [{}/{}], Step [{}/{}], Train Loss: {:.4f}, Valid Loss: {:.4f}'\n",
    "                      .format(epoch+1, num_epochs, global_step, num_epochs*len(train_loader),\n",
    "                              average_train_loss, average_valid_loss))\n",
    "                \n",
    "                # checkpoint\n",
    "                if best_valid_loss > average_valid_loss:\n",
    "                    patience = 0\n",
    "                    best_valid_loss = average_valid_loss\n",
    "                    save_checkpoint(file_path + '/model.pt', model, optimizer, best_valid_loss)\n",
    "                    save_metrics(file_path + '/metrics.pt', train_loss_list, valid_loss_list, global_steps_list)\n",
    "                else:\n",
    "                    patience +=1\n",
    "                    print(\"Patience: {}/10\".format(patience))\n",
    "                    if patience == 10:\n",
    "                        return 0\n",
    "    \n",
    "    save_metrics(file_path + '/metrics.pt', train_loss_list, valid_loss_list, global_steps_list)\n",
    "    print('Finished Training!')"
   ]
  },
  {
   "cell_type": "code",
   "execution_count": 87,
   "metadata": {},
   "outputs": [
    {
     "data": {
      "text/plain": [
       "GRU(\n",
       "  (embedding): Embedding(11661, 300)\n",
       "  (lstm): GRU(300, 256, batch_first=True)\n",
       "  (drop): Dropout(p=0.2, inplace=False)\n",
       "  (fc): Linear(in_features=256, out_features=5, bias=True)\n",
       ")"
      ]
     },
     "execution_count": 87,
     "metadata": {},
     "output_type": "execute_result"
    }
   ],
   "source": [
    "if model == 'LSTM':\n",
    "    model = LSTM().to(device)\n",
    "elif model == 'LSTM2':\n",
    "    model = LSTM2().to(device)\n",
    "elif model == 'GRU':\n",
    "    model = GRU().to(device)\n",
    "optimizer = optim.Adam(model.parameters(), lr=0.0001)\n",
    "model.train()"
   ]
  },
  {
   "cell_type": "code",
   "execution_count": 88,
   "metadata": {},
   "outputs": [
    {
     "name": "stdout",
     "output_type": "stream",
     "text": [
      "tensor([3, 3, 0, 2, 4, 4, 0, 1, 3], device='cuda:0')\n",
      "Epoch [1/100], Step [113/11300], Train Loss: 1.6155, Valid Loss: 1.6074\n",
      "Model saved to ==> /home/edshkim98/nlp/classification//pretrained//model.pt\n",
      "Model saved to ==> /home/edshkim98/nlp/classification//pretrained//metrics.pt\n",
      "tensor([1, 3, 0, 2, 3, 2, 0, 1, 4], device='cuda:0')\n",
      "Epoch [2/100], Step [226/11300], Train Loss: 1.5556, Valid Loss: 1.5928\n",
      "Model saved to ==> /home/edshkim98/nlp/classification//pretrained//model.pt\n",
      "Model saved to ==> /home/edshkim98/nlp/classification//pretrained//metrics.pt\n",
      "tensor([1, 3, 0, 2, 3, 2, 0, 1, 4], device='cuda:0')\n",
      "Epoch [3/100], Step [339/11300], Train Loss: 1.4976, Valid Loss: 1.5826\n",
      "Model saved to ==> /home/edshkim98/nlp/classification//pretrained//model.pt\n",
      "Model saved to ==> /home/edshkim98/nlp/classification//pretrained//metrics.pt\n",
      "tensor([1, 3, 0, 2, 3, 2, 0, 1, 4], device='cuda:0')\n",
      "Epoch [4/100], Step [452/11300], Train Loss: 1.4467, Valid Loss: 1.5703\n",
      "Model saved to ==> /home/edshkim98/nlp/classification//pretrained//model.pt\n",
      "Model saved to ==> /home/edshkim98/nlp/classification//pretrained//metrics.pt\n",
      "tensor([1, 3, 0, 2, 3, 2, 0, 1, 4], device='cuda:0')\n",
      "Epoch [5/100], Step [565/11300], Train Loss: 1.3866, Valid Loss: 1.5549\n",
      "Model saved to ==> /home/edshkim98/nlp/classification//pretrained//model.pt\n",
      "Model saved to ==> /home/edshkim98/nlp/classification//pretrained//metrics.pt\n",
      "tensor([1, 3, 0, 2, 3, 2, 0, 1, 3], device='cuda:0')\n",
      "Epoch [6/100], Step [678/11300], Train Loss: 1.3064, Valid Loss: 1.5183\n",
      "Model saved to ==> /home/edshkim98/nlp/classification//pretrained//model.pt\n",
      "Model saved to ==> /home/edshkim98/nlp/classification//pretrained//metrics.pt\n",
      "tensor([3, 3, 3, 4, 1, 3, 2, 1, 3], device='cuda:0')\n",
      "Epoch [7/100], Step [791/11300], Train Loss: 1.1339, Valid Loss: 1.2370\n",
      "Model saved to ==> /home/edshkim98/nlp/classification//pretrained//model.pt\n",
      "Model saved to ==> /home/edshkim98/nlp/classification//pretrained//metrics.pt\n",
      "tensor([3, 0, 3, 4, 1, 3, 0, 1, 4], device='cuda:0')\n",
      "Epoch [8/100], Step [904/11300], Train Loss: 0.9159, Valid Loss: 1.1954\n",
      "Model saved to ==> /home/edshkim98/nlp/classification//pretrained//model.pt\n",
      "Model saved to ==> /home/edshkim98/nlp/classification//pretrained//metrics.pt\n",
      "tensor([3, 0, 4, 4, 0, 3, 0, 1, 4], device='cuda:0')\n",
      "Epoch [9/100], Step [1017/11300], Train Loss: 0.7685, Valid Loss: 1.1210\n",
      "Model saved to ==> /home/edshkim98/nlp/classification//pretrained//model.pt\n",
      "Model saved to ==> /home/edshkim98/nlp/classification//pretrained//metrics.pt\n",
      "tensor([3, 0, 4, 4, 0, 3, 0, 1, 4], device='cuda:0')\n",
      "Epoch [10/100], Step [1130/11300], Train Loss: 0.6399, Valid Loss: 1.1003\n",
      "Model saved to ==> /home/edshkim98/nlp/classification//pretrained//model.pt\n",
      "Model saved to ==> /home/edshkim98/nlp/classification//pretrained//metrics.pt\n",
      "tensor([3, 0, 4, 4, 0, 2, 0, 0, 3], device='cuda:0')\n",
      "Epoch [11/100], Step [1243/11300], Train Loss: 0.5012, Valid Loss: 1.0919\n",
      "Model saved to ==> /home/edshkim98/nlp/classification//pretrained//model.pt\n",
      "Model saved to ==> /home/edshkim98/nlp/classification//pretrained//metrics.pt\n",
      "tensor([3, 0, 4, 4, 0, 2, 0, 0, 3], device='cuda:0')\n",
      "Epoch [12/100], Step [1356/11300], Train Loss: 0.4234, Valid Loss: 0.9260\n",
      "Model saved to ==> /home/edshkim98/nlp/classification//pretrained//model.pt\n",
      "Model saved to ==> /home/edshkim98/nlp/classification//pretrained//metrics.pt\n",
      "tensor([3, 0, 4, 4, 0, 3, 0, 0, 3], device='cuda:0')\n",
      "Epoch [13/100], Step [1469/11300], Train Loss: 0.3280, Valid Loss: 0.9141\n",
      "Model saved to ==> /home/edshkim98/nlp/classification//pretrained//model.pt\n",
      "Model saved to ==> /home/edshkim98/nlp/classification//pretrained//metrics.pt\n",
      "tensor([3, 0, 4, 4, 0, 3, 0, 0, 3], device='cuda:0')\n",
      "Epoch [14/100], Step [1582/11300], Train Loss: 0.2594, Valid Loss: 1.0003\n",
      "Patience: 1/10\n",
      "tensor([3, 0, 4, 4, 0, 3, 0, 0, 3], device='cuda:0')\n",
      "Epoch [15/100], Step [1695/11300], Train Loss: 0.2185, Valid Loss: 0.9407\n",
      "Patience: 2/10\n",
      "tensor([3, 0, 4, 4, 0, 3, 0, 0, 3], device='cuda:0')\n",
      "Epoch [16/100], Step [1808/11300], Train Loss: 0.2226, Valid Loss: 0.9090\n",
      "Model saved to ==> /home/edshkim98/nlp/classification//pretrained//model.pt\n",
      "Model saved to ==> /home/edshkim98/nlp/classification//pretrained//metrics.pt\n",
      "tensor([3, 0, 4, 4, 2, 2, 0, 0, 3], device='cuda:0')\n",
      "Epoch [17/100], Step [1921/11300], Train Loss: 0.1491, Valid Loss: 0.7173\n",
      "Model saved to ==> /home/edshkim98/nlp/classification//pretrained//model.pt\n",
      "Model saved to ==> /home/edshkim98/nlp/classification//pretrained//metrics.pt\n",
      "tensor([3, 0, 4, 4, 2, 2, 0, 0, 4], device='cuda:0')\n",
      "Epoch [18/100], Step [2034/11300], Train Loss: 0.1705, Valid Loss: 0.7966\n",
      "Patience: 1/10\n",
      "tensor([3, 0, 4, 4, 0, 2, 0, 0, 4], device='cuda:0')\n",
      "Epoch [19/100], Step [2147/11300], Train Loss: 0.1975, Valid Loss: 0.9784\n",
      "Patience: 2/10\n",
      "tensor([3, 0, 4, 4, 0, 2, 0, 0, 4], device='cuda:0')\n",
      "Epoch [20/100], Step [2260/11300], Train Loss: 0.1343, Valid Loss: 0.9866\n",
      "Patience: 3/10\n",
      "tensor([3, 0, 4, 4, 0, 2, 0, 0, 4], device='cuda:0')\n",
      "Epoch [21/100], Step [2373/11300], Train Loss: 0.1016, Valid Loss: 0.8694\n",
      "Patience: 4/10\n",
      "tensor([3, 0, 4, 4, 2, 2, 0, 0, 3], device='cuda:0')\n",
      "Epoch [22/100], Step [2486/11300], Train Loss: 0.0664, Valid Loss: 0.6550\n",
      "Model saved to ==> /home/edshkim98/nlp/classification//pretrained//model.pt\n",
      "Model saved to ==> /home/edshkim98/nlp/classification//pretrained//metrics.pt\n",
      "tensor([4, 0, 4, 4, 2, 2, 0, 0, 3], device='cuda:0')\n",
      "Epoch [23/100], Step [2599/11300], Train Loss: 0.0450, Valid Loss: 0.7004\n",
      "Patience: 1/10\n",
      "tensor([3, 2, 4, 4, 2, 2, 1, 0, 3], device='cuda:0')\n",
      "Epoch [24/100], Step [2712/11300], Train Loss: 0.0402, Valid Loss: 0.6486\n",
      "Model saved to ==> /home/edshkim98/nlp/classification//pretrained//model.pt\n",
      "Model saved to ==> /home/edshkim98/nlp/classification//pretrained//metrics.pt\n",
      "tensor([3, 2, 4, 4, 2, 2, 0, 0, 3], device='cuda:0')\n",
      "Epoch [25/100], Step [2825/11300], Train Loss: 0.0400, Valid Loss: 0.6363\n",
      "Model saved to ==> /home/edshkim98/nlp/classification//pretrained//model.pt\n",
      "Model saved to ==> /home/edshkim98/nlp/classification//pretrained//metrics.pt\n",
      "tensor([4, 2, 4, 4, 2, 2, 0, 0, 3], device='cuda:0')\n",
      "Epoch [26/100], Step [2938/11300], Train Loss: 0.0428, Valid Loss: 0.7638\n",
      "Patience: 1/10\n",
      "tensor([3, 2, 4, 4, 2, 2, 0, 0, 3], device='cuda:0')\n",
      "Epoch [27/100], Step [3051/11300], Train Loss: 0.0248, Valid Loss: 0.6651\n",
      "Patience: 2/10\n",
      "tensor([4, 2, 4, 4, 2, 2, 0, 0, 3], device='cuda:0')\n",
      "Epoch [28/100], Step [3164/11300], Train Loss: 0.0257, Valid Loss: 0.7328\n",
      "Patience: 3/10\n",
      "tensor([3, 0, 4, 4, 2, 2, 0, 0, 3], device='cuda:0')\n",
      "Epoch [29/100], Step [3277/11300], Train Loss: 0.0399, Valid Loss: 0.6888\n",
      "Patience: 4/10\n",
      "tensor([3, 2, 4, 4, 2, 2, 0, 0, 3], device='cuda:0')\n",
      "Epoch [30/100], Step [3390/11300], Train Loss: 0.0169, Valid Loss: 0.6775\n",
      "Patience: 5/10\n",
      "tensor([3, 2, 4, 4, 2, 2, 0, 0, 3], device='cuda:0')\n",
      "Epoch [31/100], Step [3503/11300], Train Loss: 0.0107, Valid Loss: 0.6894\n",
      "Patience: 6/10\n",
      "tensor([3, 0, 4, 4, 2, 2, 0, 0, 3], device='cuda:0')\n",
      "Epoch [32/100], Step [3616/11300], Train Loss: 0.0092, Valid Loss: 0.6586\n",
      "Patience: 7/10\n",
      "tensor([3, 0, 4, 4, 2, 2, 0, 0, 3], device='cuda:0')\n",
      "Epoch [33/100], Step [3729/11300], Train Loss: 0.0076, Valid Loss: 0.6626\n",
      "Patience: 8/10\n",
      "tensor([3, 0, 4, 4, 2, 2, 0, 0, 3], device='cuda:0')\n",
      "Epoch [34/100], Step [3842/11300], Train Loss: 0.0066, Valid Loss: 0.6588\n",
      "Patience: 9/10\n",
      "tensor([3, 0, 4, 4, 2, 2, 0, 0, 3], device='cuda:0')\n",
      "Epoch [35/100], Step [3955/11300], Train Loss: 0.0056, Valid Loss: 0.6778\n",
      "Patience: 10/10\n"
     ]
    },
    {
     "data": {
      "text/plain": [
       "0"
      ]
     },
     "execution_count": 88,
     "metadata": {},
     "output_type": "execute_result"
    }
   ],
   "source": [
    "train(model=model, optimizer=optimizer, loss_func = ls, num_epochs=100)\n"
   ]
  },
  {
   "cell_type": "markdown",
   "metadata": {},
   "source": [
    "# PLOTTING"
   ]
  },
  {
   "cell_type": "code",
   "execution_count": 89,
   "metadata": {},
   "outputs": [
    {
     "name": "stdout",
     "output_type": "stream",
     "text": [
      "Model loaded from <== /home/edshkim98/nlp/classification/pretrained/metrics.pt\n"
     ]
    },
    {
     "data": {
      "image/png": "[encoded data removed]",
      "text/plain": [
       "<Figure size 432x288 with 1 Axes>"
      ]
     },
     "metadata": {
      "needs_background": "light"
     },
     "output_type": "display_data"
    }
   ],
   "source": [
    "train_loss_list, valid_loss_list, global_steps_list = load_metrics(destination_folder + '/metrics.pt')\n",
    "plt.plot(global_steps_list, train_loss_list, label='Train')\n",
    "plt.plot(global_steps_list, valid_loss_list, label='Valid')\n",
    "plt.xlabel('Global Steps')\n",
    "plt.ylabel('Loss')\n",
    "plt.legend()\n",
    "plt.show() "
   ]
  },
  {
   "cell_type": "markdown",
   "metadata": {},
   "source": [
    "# EVALUATION"
   ]
  },
  {
   "cell_type": "code",
   "execution_count": 90,
   "metadata": {},
   "outputs": [
    {
     "name": "stdout",
     "output_type": "stream",
     "text": [
      "Model loaded from <== /home/edshkim98/nlp/classification/pretrained/model.pt\n",
      "Classification Report:\n",
      "              precision    recall  f1-score   support\n",
      "\n",
      "           0     0.8889    0.7805    0.8312        41\n",
      "           1     0.7143    0.6944    0.7042        36\n",
      "           2     0.7600    0.9048    0.8261        42\n",
      "           3     0.9556    0.9348    0.9451        46\n",
      "           4     0.7714    0.7500    0.7606        36\n",
      "\n",
      "    accuracy                         0.8209       201\n",
      "   macro avg     0.8180    0.8129    0.8134       201\n",
      "weighted avg     0.8249    0.8209    0.8208       201\n",
      "\n"
     ]
    },
    {
     "data": {
      "image/png": "[encoded data removed]",
      "text/plain": [
       "<Figure size 432x288 with 2 Axes>"
      ]
     },
     "metadata": {
      "needs_background": "light"
     },
     "output_type": "display_data"
    }
   ],
   "source": [
    "labels = {\"business\":0,\"tech\":1, \"politics\":2, \"sport\":3, \"entertainment\":4}\n",
    "\n",
    "def evaluate(model, test_loader, version='title', threshold=0.5):\n",
    "    y_pred = []\n",
    "    y_true = []\n",
    "\n",
    "    model.eval()\n",
    "    with torch.no_grad():\n",
    "        for (labels, (text, text_len)), _ in test_loader:           \n",
    "            labels = labels.long().to(device)\n",
    "            titletext = text.to(device)\n",
    "            titletext_len = text_len.to(device)\n",
    "            output = model(titletext, titletext_len)\n",
    "\n",
    "            _, predicted = torch.max(output, 1)\n",
    "            y_pred.extend(predicted.tolist())\n",
    "            y_true.extend(labels.tolist())\n",
    "    \n",
    "    print('Classification Report:')\n",
    "    print(classification_report(y_true, y_pred, digits=4))\n",
    "    \n",
    "    cm = confusion_matrix(y_true, y_pred)\n",
    "    ax= plt.subplot()\n",
    "    sns.heatmap(cm, annot=True, ax = ax, cmap='Blues', fmt=\"d\")\n",
    "\n",
    "    ax.set_title('Confusion Matrix')\n",
    "\n",
    "    ax.set_xlabel('Predicted Labels')\n",
    "    ax.set_ylabel('True Labels')\n",
    "\n",
    "    ax.xaxis.set_ticklabels(['business', 'tech', 'politics','sport','entertainment'])\n",
    "    ax.yaxis.set_ticklabels(['business', 'tech', 'politics','sport','entertainment'])\n",
    "    \n",
    "    \n",
    "best_model = model\n",
    "optimizer = optim.Adam(best_model.parameters(), lr=0.001)\n",
    "\n",
    "load_checkpoint(destination_folder + '/model.pt', best_model, optimizer,device=device)\n",
    "evaluate(best_model, valid_iter)"
   ]
  },
  {
   "cell_type": "markdown",
   "metadata": {},
   "source": [
    "# Testing in cpu"
   ]
  },
  {
   "cell_type": "code",
   "execution_count": 91,
   "metadata": {},
   "outputs": [],
   "source": [
    "def test_single(model, test_loader):\n",
    "    labels_dict = {0:\"business\",1:\"tech\", 2:\"politics\", 3:\"sport\", 4:\"entertainment\"}\n",
    "    y_pred = []\n",
    "    y_true = []\n",
    "\n",
    "    model.eval()\n",
    "    with torch.no_grad():\n",
    "        for (labels, (text, text_len)), _ in test_loader:           \n",
    "            labels = labels.long()#.to(device)\n",
    "            titletext = text#.to(device)\n",
    "            titletext_len = text_len#.to(device)\n",
    "            output = model(titletext, titletext_len)\n",
    "\n",
    "            _, predicted = torch.max(output, 1)\n",
    "            y_pred.extend(predicted.tolist())\n",
    "            y_true.extend(labels.tolist())\n",
    "    print(labels_dict[int(predicted)])\n",
    "    \n",
    "def test_whole(model, test_loader, device):\n",
    "    y_pred = []\n",
    "    y_true = []\n",
    "\n",
    "    model.eval()\n",
    "    with torch.no_grad():\n",
    "        for (labels, (text, text_len)), _ in test_loader:           \n",
    "            labels = labels.long().to(device)\n",
    "            titletext = text.to(device)\n",
    "            titletext_len = text_len.to(device)\n",
    "            output = model(titletext, titletext_len)\n",
    "\n",
    "            _, predicted = torch.max(output, 1)\n",
    "            y_pred.extend(predicted.tolist())\n",
    "            y_true.extend(labels.tolist())\n",
    "    \n",
    "    print('Classification Report:')\n",
    "    print(classification_report(y_true, y_pred, digits=4))\n",
    "    cm = confusion_matrix(y_true, y_pred)\n",
    "    ax= plt.subplot()\n",
    "    sns.heatmap(cm, annot=True, ax = ax, cmap='Blues', fmt=\"d\")\n",
    "\n",
    "    ax.set_title('Confusion Matrix')\n",
    "\n",
    "    ax.set_xlabel('Predicted Labels')\n",
    "    ax.set_ylabel('True Labels')\n",
    "\n",
    "    ax.xaxis.set_ticklabels(['business', 'tech', 'politics','sport','entertainment'])\n",
    "    ax.yaxis.set_ticklabels(['business', 'tech', 'politics','sport','entertainment'])"
   ]
  },
  {
   "cell_type": "code",
   "execution_count": 92,
   "metadata": {},
   "outputs": [
    {
     "name": "stdout",
     "output_type": "stream",
     "text": [
      "Model loaded from <== /home/edshkim98/nlp/classification/pretrained/model.pt\n"
     ]
    },
    {
     "data": {
      "text/plain": [
       "GRU(\n",
       "  (embedding): Embedding(11661, 300)\n",
       "  (lstm): GRU(300, 256, batch_first=True)\n",
       "  (drop): Dropout(p=0.2, inplace=False)\n",
       "  (fc): Linear(in_features=256, out_features=5, bias=True)\n",
       ")"
      ]
     },
     "execution_count": 92,
     "metadata": {},
     "output_type": "execute_result"
    }
   ],
   "source": [
    "best_model = model#LSTM().to(device)\n",
    "load_checkpoint(destination_folder + '/model.pt', best_model, optimizer,device=device)\n",
    "best_model"
   ]
  },
  {
   "cell_type": "code",
   "execution_count": 93,
   "metadata": {},
   "outputs": [
    {
     "name": "stderr",
     "output_type": "stream",
     "text": [
      "/home/edshkim98/env/lib/python3.7/site-packages/torchtext/data/batch.py:23: UserWarning: Batch class will be retired soon and moved to torchtext.legacy. Please see the most recent release notes for further information.\n",
      "  warnings.warn('{} class will be retired soon and moved to torchtext.legacy. Please see the most recent release notes for further information.'.format(self.__class__.__name__), UserWarning)\n"
     ]
    },
    {
     "name": "stdout",
     "output_type": "stream",
     "text": [
      "Classification Report:\n",
      "              precision    recall  f1-score   support\n",
      "\n",
      "           0     0.8485    0.7179    0.7778        39\n",
      "           1     0.7800    0.8478    0.8125        46\n",
      "           2     0.7500    0.8780    0.8090        41\n",
      "           3     0.9661    0.9500    0.9580        60\n",
      "           4     0.8485    0.7568    0.8000        37\n",
      "\n",
      "    accuracy                         0.8430       223\n",
      "   macro avg     0.8386    0.8301    0.8314       223\n",
      "weighted avg     0.8479    0.8430    0.8429       223\n",
      "\n"
     ]
    },
    {
     "data": {
      "image/png": "[encoded data removed]",
      "text/plain": [
       "<Figure size 432x288 with 2 Axes>"
      ]
     },
     "metadata": {
      "needs_background": "light"
     },
     "output_type": "display_data"
    }
   ],
   "source": [
    "test_whole(best_model, sample_iter,device=device)"
   ]
  },
  {
   "cell_type": "code",
   "execution_count": null,
   "metadata": {},
   "outputs": [],
   "source": []
  },
  {
   "cell_type": "code",
   "execution_count": null,
   "metadata": {},
   "outputs": [],
   "source": []
  }
 ],
 "metadata": {
  "kernelspec": {
   "display_name": "env",
   "language": "python",
   "name": "env"
  },
  "language_info": {
   "codemirror_mode": {
    "name": "ipython",
    "version": 3
   },
   "file_extension": ".py",
   "mimetype": "text/x-python",
   "name": "python",
   "nbconvert_exporter": "python",
   "pygments_lexer": "ipython3",
   "version": "3.7.8"
  }
 },
 "nbformat": 4,
 "nbformat_minor": 4
}
