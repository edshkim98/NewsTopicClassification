{
 "cells": [
  {
   "cell_type": "code",
   "execution_count": 1,
   "metadata": {},
   "outputs": [],
   "source": [
    "import torch\n",
    "import torch.nn as nn\n",
    "import torch.optim as optim\n",
    "import torch.nn.functional as F\n",
    "from torch.nn.utils.rnn import pack_padded_sequence, pad_packed_sequence\n",
    "import torch.optim as optim\n",
    "\n",
    "from torchtext.data import Field, BucketIterator, TabularDataset, BucketIterator,Example\n",
    "\n",
    "import matplotlib.pyplot as plt\n",
    "import matplotlib.ticker as ticker\n",
    "\n",
    "import spacy\n",
    "import numpy as np\n",
    "import pandas as pd\n",
    "\n",
    "import random\n",
    "import math\n",
    "import time\n",
    "import os\n",
    "\n",
    "path = '/home/edshkim98/nlp/classification/bbc/' #location of dataset\n",
    "source_folder = '/home/edshkim98/nlp/classification/' #location of code file\n",
    "destination_folder = source_folder+'pretrained' #location of saved pretrained model"
   ]
  },
  {
   "cell_type": "code",
   "execution_count": 2,
   "metadata": {},
   "outputs": [],
   "source": [
    "from sklearn.model_selection import train_test_split\n",
    "from sklearn.utils import shuffle\n",
    "import glob"
   ]
  },
  {
   "cell_type": "code",
   "execution_count": 3,
   "metadata": {},
   "outputs": [],
   "source": [
    "torch.manual_seed(42)\n",
    "torch.cuda.manual_seed(42)\n",
    "random.seed(42)\n",
    "np.random.seed(42)"
   ]
  },
  {
   "cell_type": "code",
   "execution_count": 4,
   "metadata": {},
   "outputs": [
    {
     "data": {
      "text/plain": [
       "['business', 'tech', 'politics', 'sport', 'entertainment']"
      ]
     },
     "execution_count": 4,
     "metadata": {},
     "output_type": "execute_result"
    }
   ],
   "source": [
    "data = path+'/News Articles/'\n",
    "data2 = path+'/Summaries/'\n",
    "\n",
    "os.listdir(data)"
   ]
  },
  {
   "cell_type": "code",
   "execution_count": 5,
   "metadata": {},
   "outputs": [
    {
     "data": {
      "text/plain": [
       "2225"
      ]
     },
     "execution_count": 5,
     "metadata": {},
     "output_type": "execute_result"
    }
   ],
   "source": [
    "#Dont use summary data, cuz it's unfair\n",
    "all_files = glob.glob(data+'*/*')#+glob.glob(data+'*/*')\n",
    "len(all_files)"
   ]
  },
  {
   "cell_type": "code",
   "execution_count": 6,
   "metadata": {},
   "outputs": [],
   "source": [
    "summaries = glob.glob(data2+'*/*')"
   ]
  },
  {
   "cell_type": "code",
   "execution_count": 7,
   "metadata": {},
   "outputs": [],
   "source": [
    "labels = {\"business\":0,\"tech\":1, \"politics\":2, \"sport\":3, \"entertainment\":4}"
   ]
  },
  {
   "cell_type": "code",
   "execution_count": 8,
   "metadata": {},
   "outputs": [
    {
     "data": {
      "text/plain": [
       "'politics'"
      ]
     },
     "execution_count": 8,
     "metadata": {},
     "output_type": "execute_result"
    }
   ],
   "source": [
    "all_files[1000].split('/')[-2]"
   ]
  },
  {
   "cell_type": "code",
   "execution_count": null,
   "metadata": {},
   "outputs": [],
   "source": [
    "all_data = []\n",
    "for i in range(len(all_files)):\n",
    "    #print(i)\n",
    "    with open(all_files[i], encoding='latin1') as f:\n",
    "        lines = f.readlines()\n",
    "        lines = [line[:-1] for line in lines if line != '\\n']\n",
    "        lines = ' '.join(lines)\n",
    "    label = labels[all_files[i].split('/')[-2]]\n",
    "    all_data.append([lines,label])"
   ]
  },
  {
   "cell_type": "code",
   "execution_count": null,
   "metadata": {},
   "outputs": [],
   "source": [
    "summaries_data = []\n",
    "for i in range(len(summaries)):\n",
    "    #print(i)\n",
    "    with open(summaries[i], encoding='latin1') as f:\n",
    "        lines = f.readlines()\n",
    "        lines = [line[:-1] for line in lines if line != '\\n']\n",
    "        lines = ' '.join(lines)\n",
    "    label = labels[summaries[i].split('/')[-2]]\n",
    "    summaries_data.append([lines,label])\n",
    "summaries_data[0]"
   ]
  },
  {
   "cell_type": "code",
   "execution_count": 11,
   "metadata": {},
   "outputs": [
    {
     "data": {
      "text/plain": [
       "[\"India's Maruti sees profits jump India's biggest carmaker Maruti has reported a sharp increase in quarterly profit after a booming economy and low interest rates boosted demand. Net profit surged 70% to 2.39bn rupees ($54.98m; Â£29.32m) in the last three months of 2004 compared with 1.41bn rupees a year earlier. Total sales were 30.1bn rupees, up 27% from the same 2004 period. Maruti accounts for half of India's domestic car sales, luring consumers with cheap, fuel-efficient vehicles. Demand in India also has been driven by the poor state of public transport and the very low level of car ownership, analysts said. Figures show that only eight people per thousand are car owners. Maruti beat market expectations despite an increase in raw materials costs. The company, majority-owned by Japan's Suzuki, said an increase in steel and other raw material prices was partially offset by cost cutting. Sales in the fiscal third quarter, including vans and utility vehicles, rose by 17.8% to 136.069 units. Maruti is not the only company benefiting as Indian's economic growth gives consumer greater spending power. Utility vehicle and tractor maker Mahindra has reported a 52% rise in net profit during the last three months of 2004. Profit was 1.33bn rupees compared with 874.2m rupees a year earlier.\",\n",
       " 0]"
      ]
     },
     "execution_count": 11,
     "metadata": {},
     "output_type": "execute_result"
    }
   ],
   "source": [
    "all_data[0]"
   ]
  },
  {
   "cell_type": "code",
   "execution_count": 12,
   "metadata": {},
   "outputs": [],
   "source": [
    "data = pd.DataFrame({\"label\": [i[1] for i in all_data], \"text\": [i[0] for i in all_data]})"
   ]
  },
  {
   "cell_type": "code",
   "execution_count": 13,
   "metadata": {},
   "outputs": [
    {
     "data": {
      "text/html": [
       "<div>\n",
       "<style scoped>\n",
       "    .dataframe tbody tr th:only-of-type {\n",
       "        vertical-align: middle;\n",
       "    }\n",
       "\n",
       "    .dataframe tbody tr th {\n",
       "        vertical-align: top;\n",
       "    }\n",
       "\n",
       "    .dataframe thead th {\n",
       "        text-align: right;\n",
       "    }\n",
       "</style>\n",
       "<table border=\"1\" class=\"dataframe\">\n",
       "  <thead>\n",
       "    <tr style=\"text-align: right;\">\n",
       "      <th></th>\n",
       "      <th>label</th>\n",
       "      <th>text</th>\n",
       "    </tr>\n",
       "  </thead>\n",
       "  <tbody>\n",
       "    <tr>\n",
       "      <th>0</th>\n",
       "      <td>0</td>\n",
       "      <td>India's Maruti sees profits jump India's bigge...</td>\n",
       "    </tr>\n",
       "    <tr>\n",
       "      <th>1</th>\n",
       "      <td>0</td>\n",
       "      <td>Mixed Christmas for US retailers US retailers ...</td>\n",
       "    </tr>\n",
       "    <tr>\n",
       "      <th>2</th>\n",
       "      <td>0</td>\n",
       "      <td>Rank 'set to sell off film unit' Leisure group...</td>\n",
       "    </tr>\n",
       "    <tr>\n",
       "      <th>3</th>\n",
       "      <td>0</td>\n",
       "      <td>Qatar and Shell in $6bn gas deal Shell has sig...</td>\n",
       "    </tr>\n",
       "    <tr>\n",
       "      <th>4</th>\n",
       "      <td>0</td>\n",
       "      <td>China's Shanda buys stake in Sina Chinese onli...</td>\n",
       "    </tr>\n",
       "    <tr>\n",
       "      <th>...</th>\n",
       "      <td>...</td>\n",
       "      <td>...</td>\n",
       "    </tr>\n",
       "    <tr>\n",
       "      <th>2220</th>\n",
       "      <td>4</td>\n",
       "      <td>Box office blow for Alexander Director Oliver ...</td>\n",
       "    </tr>\n",
       "    <tr>\n",
       "      <th>2221</th>\n",
       "      <td>4</td>\n",
       "      <td>Johnny Cash manager Holiff dies The former man...</td>\n",
       "    </tr>\n",
       "    <tr>\n",
       "      <th>2222</th>\n",
       "      <td>4</td>\n",
       "      <td>Brits return Keane to number one Brits success...</td>\n",
       "    </tr>\n",
       "    <tr>\n",
       "      <th>2223</th>\n",
       "      <td>4</td>\n",
       "      <td>Download chart debut is delayed The inclusion ...</td>\n",
       "    </tr>\n",
       "    <tr>\n",
       "      <th>2224</th>\n",
       "      <td>4</td>\n",
       "      <td>Famed music director Viotti dies Conductor Mar...</td>\n",
       "    </tr>\n",
       "  </tbody>\n",
       "</table>\n",
       "<p>2225 rows × 2 columns</p>\n",
       "</div>"
      ],
      "text/plain": [
       "      label                                               text\n",
       "0         0  India's Maruti sees profits jump India's bigge...\n",
       "1         0  Mixed Christmas for US retailers US retailers ...\n",
       "2         0  Rank 'set to sell off film unit' Leisure group...\n",
       "3         0  Qatar and Shell in $6bn gas deal Shell has sig...\n",
       "4         0  China's Shanda buys stake in Sina Chinese onli...\n",
       "...     ...                                                ...\n",
       "2220      4  Box office blow for Alexander Director Oliver ...\n",
       "2221      4  Johnny Cash manager Holiff dies The former man...\n",
       "2222      4  Brits return Keane to number one Brits success...\n",
       "2223      4  Download chart debut is delayed The inclusion ...\n",
       "2224      4  Famed music director Viotti dies Conductor Mar...\n",
       "\n",
       "[2225 rows x 2 columns]"
      ]
     },
     "execution_count": 13,
     "metadata": {},
     "output_type": "execute_result"
    }
   ],
   "source": [
    "data"
   ]
  },
  {
   "cell_type": "code",
   "execution_count": 14,
   "metadata": {},
   "outputs": [],
   "source": [
    "train_valid_ratio = 0.80\n",
    "first_n_words = 150 #Too large, so trime data to string[:150] -> kinda hyper parameter\n",
    "\n",
    "def trim_string(x):\n",
    "    x = x.split(maxsplit=first_n_words)\n",
    "    x = ' '.join(x[:first_n_words])\n",
    "    return x"
   ]
  },
  {
   "cell_type": "code",
   "execution_count": 15,
   "metadata": {},
   "outputs": [],
   "source": [
    "df = data.copy()\n",
    "df['text'] = df['text'].apply(trim_string)"
   ]
  },
  {
   "cell_type": "code",
   "execution_count": 16,
   "metadata": {},
   "outputs": [
    {
     "data": {
      "text/plain": [
       "label                                                    0\n",
       "text     India's Maruti sees profits jump India's bigge...\n",
       "Name: 0, dtype: object"
      ]
     },
     "execution_count": 16,
     "metadata": {},
     "output_type": "execute_result"
    }
   ],
   "source": [
    "df.iloc[0]"
   ]
  },
  {
   "cell_type": "code",
   "execution_count": 17,
   "metadata": {},
   "outputs": [
    {
     "data": {
      "text/html": [
       "<div>\n",
       "<style scoped>\n",
       "    .dataframe tbody tr th:only-of-type {\n",
       "        vertical-align: middle;\n",
       "    }\n",
       "\n",
       "    .dataframe tbody tr th {\n",
       "        vertical-align: top;\n",
       "    }\n",
       "\n",
       "    .dataframe thead th {\n",
       "        text-align: right;\n",
       "    }\n",
       "</style>\n",
       "<table border=\"1\" class=\"dataframe\">\n",
       "  <thead>\n",
       "    <tr style=\"text-align: right;\">\n",
       "      <th></th>\n",
       "      <th>label</th>\n",
       "      <th>text</th>\n",
       "    </tr>\n",
       "  </thead>\n",
       "  <tbody>\n",
       "    <tr>\n",
       "      <th>414</th>\n",
       "      <td>0</td>\n",
       "      <td>S&amp;N extends Indian beer venture The UK's bigge...</td>\n",
       "    </tr>\n",
       "    <tr>\n",
       "      <th>420</th>\n",
       "      <td>0</td>\n",
       "      <td>Tsunami slows Sri Lanka's growth Sri Lanka's p...</td>\n",
       "    </tr>\n",
       "    <tr>\n",
       "      <th>1644</th>\n",
       "      <td>3</td>\n",
       "      <td>Call for Kenteris to be cleared Kostas Kenteri...</td>\n",
       "    </tr>\n",
       "    <tr>\n",
       "      <th>416</th>\n",
       "      <td>0</td>\n",
       "      <td>Chinese wine tempts Italy's Illva Italy's Illv...</td>\n",
       "    </tr>\n",
       "    <tr>\n",
       "      <th>1232</th>\n",
       "      <td>2</td>\n",
       "      <td>Could rivalry overshadow election? Tony Blair ...</td>\n",
       "    </tr>\n",
       "    <tr>\n",
       "      <th>...</th>\n",
       "      <td>...</td>\n",
       "      <td>...</td>\n",
       "    </tr>\n",
       "    <tr>\n",
       "      <th>1638</th>\n",
       "      <td>3</td>\n",
       "      <td>Britain boosted by Holmes double Athletics fan...</td>\n",
       "    </tr>\n",
       "    <tr>\n",
       "      <th>1095</th>\n",
       "      <td>2</td>\n",
       "      <td>Regiments' group in poll move A regiments' cam...</td>\n",
       "    </tr>\n",
       "    <tr>\n",
       "      <th>1130</th>\n",
       "      <td>2</td>\n",
       "      <td>Ministers deny care sums 'wrong' Ministers hav...</td>\n",
       "    </tr>\n",
       "    <tr>\n",
       "      <th>1294</th>\n",
       "      <td>2</td>\n",
       "      <td>MPs issued with Blackberry threat MPs will be ...</td>\n",
       "    </tr>\n",
       "    <tr>\n",
       "      <th>860</th>\n",
       "      <td>1</td>\n",
       "      <td>Musicians 'upbeat' about the net Musicians are...</td>\n",
       "    </tr>\n",
       "  </tbody>\n",
       "</table>\n",
       "<p>2225 rows × 2 columns</p>\n",
       "</div>"
      ],
      "text/plain": [
       "      label                                               text\n",
       "414       0  S&N extends Indian beer venture The UK's bigge...\n",
       "420       0  Tsunami slows Sri Lanka's growth Sri Lanka's p...\n",
       "1644      3  Call for Kenteris to be cleared Kostas Kenteri...\n",
       "416       0  Chinese wine tempts Italy's Illva Italy's Illv...\n",
       "1232      2  Could rivalry overshadow election? Tony Blair ...\n",
       "...     ...                                                ...\n",
       "1638      3  Britain boosted by Holmes double Athletics fan...\n",
       "1095      2  Regiments' group in poll move A regiments' cam...\n",
       "1130      2  Ministers deny care sums 'wrong' Ministers hav...\n",
       "1294      2  MPs issued with Blackberry threat MPs will be ...\n",
       "860       1  Musicians 'upbeat' about the net Musicians are...\n",
       "\n",
       "[2225 rows x 2 columns]"
      ]
     },
     "execution_count": 17,
     "metadata": {},
     "output_type": "execute_result"
    }
   ],
   "source": [
    "df = shuffle(df) #shuffle data\n",
    "df"
   ]
  },
  {
   "cell_type": "code",
   "execution_count": 18,
   "metadata": {},
   "outputs": [],
   "source": [
    "train, test = train_test_split(df, test_size=0.2)"
   ]
  },
  {
   "cell_type": "code",
   "execution_count": 19,
   "metadata": {},
   "outputs": [
    {
     "data": {
      "text/plain": [
       "<BarContainer object of 5 artists>"
      ]
     },
     "execution_count": 19,
     "metadata": {},
     "output_type": "execute_result"
    },
    {
     "data": {
      "image/png": "[encoded data removed]",
      "text/plain": [
       "<Figure size 432x288 with 1 Axes>"
      ]
     },
     "metadata": {
      "needs_background": "light"
     },
     "output_type": "display_data"
    }
   ],
   "source": [
    "category, values = np.unique(train['label'].values, return_counts=True) #checking distribution\n",
    "plt.title(\"Distribution for training data\")\n",
    "plt.bar(category,values)"
   ]
  },
  {
   "cell_type": "code",
   "execution_count": 20,
   "metadata": {},
   "outputs": [
    {
     "data": {
      "text/plain": [
       "<BarContainer object of 5 artists>"
      ]
     },
     "execution_count": 20,
     "metadata": {},
     "output_type": "execute_result"
    },
    {
     "data": {
      "image/png": "[encoded data removed]",
      "text/plain": [
       "<Figure size 432x288 with 1 Axes>"
      ]
     },
     "metadata": {
      "needs_background": "light"
     },
     "output_type": "display_data"
    }
   ],
   "source": [
    "category, values = np.unique(test['label'].values, return_counts=True)\n",
    "plt.title(\"Distribution for valid data\")\n",
    "plt.bar(category,values)"
   ]
  },
  {
   "cell_type": "code",
   "execution_count": 21,
   "metadata": {},
   "outputs": [],
   "source": [
    "train.to_csv('/home/edshkim98/nlp/classification/train.csv', index=False)\n",
    "test.to_csv('/home/edshkim98/nlp/classification/valid.csv', index=False)\n",
    "train2, test2 = train.copy(), test.copy()"
   ]
  },
  {
   "cell_type": "code",
   "execution_count": 22,
   "metadata": {},
   "outputs": [
    {
     "data": {
      "text/html": [
       "<div>\n",
       "<style scoped>\n",
       "    .dataframe tbody tr th:only-of-type {\n",
       "        vertical-align: middle;\n",
       "    }\n",
       "\n",
       "    .dataframe tbody tr th {\n",
       "        vertical-align: top;\n",
       "    }\n",
       "\n",
       "    .dataframe thead th {\n",
       "        text-align: right;\n",
       "    }\n",
       "</style>\n",
       "<table border=\"1\" class=\"dataframe\">\n",
       "  <thead>\n",
       "    <tr style=\"text-align: right;\">\n",
       "      <th></th>\n",
       "      <th>label</th>\n",
       "      <th>text</th>\n",
       "    </tr>\n",
       "  </thead>\n",
       "  <tbody>\n",
       "    <tr>\n",
       "      <th>0</th>\n",
       "      <td>4</td>\n",
       "      <td>Stars pay tribute to actor Davis Hollywood sta...</td>\n",
       "    </tr>\n",
       "    <tr>\n",
       "      <th>1</th>\n",
       "      <td>2</td>\n",
       "      <td>Cherie accused of attacking Bush Cherie Blair ...</td>\n",
       "    </tr>\n",
       "    <tr>\n",
       "      <th>2</th>\n",
       "      <td>1</td>\n",
       "      <td>Half-Life 2 sweeps Bafta awards PC first perso...</td>\n",
       "    </tr>\n",
       "    <tr>\n",
       "      <th>3</th>\n",
       "      <td>3</td>\n",
       "      <td>Roddick into San Jose final Andy Roddick will ...</td>\n",
       "    </tr>\n",
       "    <tr>\n",
       "      <th>4</th>\n",
       "      <td>1</td>\n",
       "      <td>PC photo printers challenge pros Home printed ...</td>\n",
       "    </tr>\n",
       "    <tr>\n",
       "      <th>...</th>\n",
       "      <td>...</td>\n",
       "      <td>...</td>\n",
       "    </tr>\n",
       "    <tr>\n",
       "      <th>1775</th>\n",
       "      <td>2</td>\n",
       "      <td>Blair backs 'pre-election budget' Tony Blair h...</td>\n",
       "    </tr>\n",
       "    <tr>\n",
       "      <th>1776</th>\n",
       "      <td>3</td>\n",
       "      <td>Johnson accuses British sprinters Former Olymp...</td>\n",
       "    </tr>\n",
       "    <tr>\n",
       "      <th>1777</th>\n",
       "      <td>0</td>\n",
       "      <td>Italy to get economic action plan Italian Prim...</td>\n",
       "    </tr>\n",
       "    <tr>\n",
       "      <th>1778</th>\n",
       "      <td>2</td>\n",
       "      <td>Nat Insurance to rise, say Tories National Ins...</td>\n",
       "    </tr>\n",
       "    <tr>\n",
       "      <th>1779</th>\n",
       "      <td>1</td>\n",
       "      <td>Gangsters dominate gaming chart Video games on...</td>\n",
       "    </tr>\n",
       "  </tbody>\n",
       "</table>\n",
       "<p>1780 rows × 2 columns</p>\n",
       "</div>"
      ],
      "text/plain": [
       "      label                                               text\n",
       "0         4  Stars pay tribute to actor Davis Hollywood sta...\n",
       "1         2  Cherie accused of attacking Bush Cherie Blair ...\n",
       "2         1  Half-Life 2 sweeps Bafta awards PC first perso...\n",
       "3         3  Roddick into San Jose final Andy Roddick will ...\n",
       "4         1  PC photo printers challenge pros Home printed ...\n",
       "...     ...                                                ...\n",
       "1775      2  Blair backs 'pre-election budget' Tony Blair h...\n",
       "1776      3  Johnson accuses British sprinters Former Olymp...\n",
       "1777      0  Italy to get economic action plan Italian Prim...\n",
       "1778      2  Nat Insurance to rise, say Tories National Ins...\n",
       "1779      1  Gangsters dominate gaming chart Video games on...\n",
       "\n",
       "[1780 rows x 2 columns]"
      ]
     },
     "execution_count": 22,
     "metadata": {},
     "output_type": "execute_result"
    }
   ],
   "source": [
    "d = pd.read_csv('train.csv')\n",
    "d"
   ]
  },
  {
   "cell_type": "code",
   "execution_count": 23,
   "metadata": {},
   "outputs": [
    {
     "data": {
      "text/plain": [
       "'Stars pay tribute to actor Davis Hollywood stars including Spike Lee, Burt Reynolds and Oscar nominee Alan Alda have paid tribute to actor Ossie Davis at a funeral in New York. Veteran star Ossie Davis, a well-known civil rights activist, died in Miami at the age of 87 on 4 February 2005. Friends and family, including actress Ruby Dee his wife of 56 years, gathered at the Riverside Church on Saturday. Also present at the service was former US president Bill Clinton and singer Harry Belafonte, who gave the eulogy. \"He would have been a very good president of the United States,\" said Mr Clinton. \"Like most of you here, he gave more to me than I gave to him.\" The 87-year-old was found dead last weekend in his hotel room in Florida, where he was making a film. Police said that he appeared to have died of natural causes.'"
      ]
     },
     "execution_count": 23,
     "metadata": {},
     "output_type": "execute_result"
    }
   ],
   "source": [
    "d['text'].iloc[0]"
   ]
  },
  {
   "cell_type": "code",
   "execution_count": 24,
   "metadata": {},
   "outputs": [],
   "source": [
    "# Evaluation\n",
    "from sklearn.metrics import accuracy_score, classification_report, confusion_matrix\n",
    "import seaborn as sns\n",
    "import spacy\n",
    "#spacy_en = spacy.load('en_core_web_sm')"
   ]
  },
  {
   "cell_type": "code",
   "execution_count": 25,
   "metadata": {},
   "outputs": [
    {
     "name": "stderr",
     "output_type": "stream",
     "text": [
      "/home/edshkim98/env/lib/python3.7/site-packages/torchtext/data/field.py:150: UserWarning: Field class will be retired soon and moved to torchtext.legacy. Please see the most recent release notes for further information.\n",
      "  warnings.warn('{} class will be retired soon and moved to torchtext.legacy. Please see the most recent release notes for further information.'.format(self.__class__.__name__), UserWarning)\n"
     ]
    }
   ],
   "source": [
    "# Fields\n",
    "label_field = Field(sequential=False, use_vocab=False, batch_first=True, dtype=torch.float)\n",
    "text_field = Field(lower=True, include_lengths=True, batch_first=True)\n",
    "fields = [('label', label_field), ('text', text_field)]\n",
    "\n",
    "# # TabularDataset\n",
    "# train_data, valid_data = TabularDataset.splits(path=source_folder, train='train.csv', validation='valid.csv',\n",
    "#                                           format='CSV', fields=fields, skip_header=True)\n"
   ]
  },
  {
   "cell_type": "code",
   "execution_count": 26,
   "metadata": {},
   "outputs": [],
   "source": [
    "sample = pd.DataFrame({\"label\": [i[1] for i in summaries_data], \"text\": [i[0] for i in summaries_data]})\n",
    "sample['text'] = sample['text'].apply(trim_string)\n",
    "sample.to_csv(\"sample.csv\", index=False)"
   ]
  },
  {
   "cell_type": "code",
   "execution_count": 27,
   "metadata": {},
   "outputs": [
    {
     "name": "stderr",
     "output_type": "stream",
     "text": [
      "/home/edshkim98/env/lib/python3.7/site-packages/torchtext/data/example.py:68: UserWarning: Example class will be retired soon and moved to torchtext.legacy. Please see the most recent release notes for further information.\n",
      "  warnings.warn('Example class will be retired soon and moved to torchtext.legacy. Please see the most recent release notes for further information.', UserWarning)\n",
      "/home/edshkim98/env/lib/python3.7/site-packages/torchtext/data/example.py:78: UserWarning: Example class will be retired soon and moved to torchtext.legacy. Please see the most recent release notes for further information.\n",
      "  warnings.warn('Example class will be retired soon and moved to torchtext.legacy. Please see the most recent release notes for further information.', UserWarning)\n",
      "/home/edshkim98/env/lib/python3.7/site-packages/torchtext/data/iterator.py:48: UserWarning: BucketIterator class will be retired soon and moved to torchtext.legacy. Please see the most recent release notes for further information.\n",
      "  warnings.warn('{} class will be retired soon and moved to torchtext.legacy. Please see the most recent release notes for further information.'.format(self.__class__.__name__), UserWarning)\n"
     ]
    }
   ],
   "source": [
    "# TabularDataset\n",
    "train_data, valid_data,sample_data = TabularDataset.splits(path=source_folder, train='train.csv', validation='valid.csv', test='sample.csv'\n",
    "                                          ,format='CSV', fields=fields, skip_header=True)\n",
    "# Iterators\n",
    "device = torch.device(\"cuda:0\" if torch.cuda.is_available() else \"cpu\")\n",
    "train_iter = BucketIterator(train_data, batch_size=16, sort_key=lambda x: len(x.text),\n",
    "                            device=device, sort=True, sort_within_batch=True)\n",
    "valid_iter = BucketIterator(valid_data, batch_size=16, sort_key=lambda x: len(x.text),\n",
    "                            device=device, sort=True, sort_within_batch=True)\n",
    "sample_iter = BucketIterator(sample_data, batch_size=16, sort_key=lambda x: len(x.text),\n",
    "                            device=device, sort=True, sort_within_batch=True)\n",
    "\n",
    "# Vocabulary\n",
    "\n",
    "text_field.build_vocab(train_data, min_freq=3)"
   ]
  },
  {
   "cell_type": "code",
   "execution_count": 28,
   "metadata": {},
   "outputs": [
    {
     "name": "stderr",
     "output_type": "stream",
     "text": [
      "/home/edshkim98/env/lib/python3.7/site-packages/torchtext/data/batch.py:23: UserWarning: Batch class will be retired soon and moved to torchtext.legacy. Please see the most recent release notes for further information.\n",
      "  warnings.warn('{} class will be retired soon and moved to torchtext.legacy. Please see the most recent release notes for further information.'.format(self.__class__.__name__), UserWarning)\n"
     ]
    },
    {
     "data": {
      "text/plain": [
       "\n",
       "[torchtext.data.batch.Batch of size 16]\n",
       "\t[.label]:[torch.cuda.FloatTensor of size 16 (GPU 0)]\n",
       "\t[.text]:('[torch.cuda.LongTensor of size 16x49 (GPU 0)]', '[torch.cuda.LongTensor of size 16 (GPU 0)]')"
      ]
     },
     "execution_count": 28,
     "metadata": {},
     "output_type": "execute_result"
    }
   ],
   "source": [
    "next(iter(sample_iter))"
   ]
  },
  {
   "cell_type": "code",
   "execution_count": 29,
   "metadata": {},
   "outputs": [
    {
     "data": {
      "text/plain": [
       "9561"
      ]
     },
     "execution_count": 29,
     "metadata": {},
     "output_type": "execute_result"
    }
   ],
   "source": [
    "len(text_field.vocab)"
   ]
  },
  {
   "cell_type": "code",
   "execution_count": 30,
   "metadata": {},
   "outputs": [],
   "source": [
    "class LSTM(nn.Module):\n",
    "\n",
    "    def __init__(self, dimension=256):\n",
    "        super(LSTM, self).__init__()\n",
    "\n",
    "        self.embedding = nn.Embedding(len(text_field.vocab), 300)\n",
    "        self.dimension = dimension\n",
    "        self.lstm = nn.LSTM(input_size=300,\n",
    "                            hidden_size=dimension,\n",
    "                            num_layers=1,\n",
    "                            batch_first=True,\n",
    "                            bidirectional=True)\n",
    "        self.drop = nn.Dropout(p=0.2)\n",
    "\n",
    "        self.fc = nn.Linear(2*dimension, 5)\n",
    "\n",
    "    def forward(self, text, text_len):\n",
    "\n",
    "        text_emb = self.embedding(text)\n",
    "\n",
    "        packed_input = pack_padded_sequence(text_emb, text_len.cpu(), batch_first=True, enforce_sorted=False)\n",
    "        packed_output, _ = self.lstm(packed_input)\n",
    "        output, _ = pad_packed_sequence(packed_output, batch_first=True)\n",
    "\n",
    "        out_forward = output[range(len(output)), text_len - 1, :self.dimension]\n",
    "        out_reverse = output[:, 0, self.dimension:]\n",
    "        out_reduced = torch.cat((out_forward, out_reverse), 1)\n",
    "        text_fea = self.drop(out_reduced)\n",
    "\n",
    "        out = self.fc(text_fea)\n",
    "        return out\n",
    "    \n",
    "class LSTM2(nn.Module):\n",
    "\n",
    "    def __init__(self, dimension=256):\n",
    "        super(LSTM2, self).__init__()\n",
    "\n",
    "        self.embedding = nn.Embedding(len(text_field.vocab), 300)\n",
    "        self.dimension = dimension\n",
    "        self.lstm = nn.LSTM(input_size=300,\n",
    "                            hidden_size=dimension,\n",
    "                            num_layers=1,\n",
    "                            batch_first=True,\n",
    "                            bidirectional=False)\n",
    "        self.drop = nn.Dropout(p=0.2)\n",
    "\n",
    "        self.fc = nn.Linear(dimension, 5)\n",
    "\n",
    "    def forward(self, text, text_len):\n",
    "\n",
    "        text_emb = self.embedding(text)\n",
    "\n",
    "        packed_input = pack_padded_sequence(text_emb, text_len.cpu(), batch_first=True, enforce_sorted=False)\n",
    "        packed_output, _ = self.lstm(packed_input)\n",
    "        output, _ = pad_packed_sequence(packed_output, batch_first=True)\n",
    "\n",
    "        out_forward = output[range(len(output)), text_len - 1, :self.dimension]\n",
    "        out_reverse = output[:, 0, self.dimension:]\n",
    "        out_reduced = torch.cat((out_forward, out_reverse), 1)\n",
    "        text_fea = self.drop(out_reduced)\n",
    "        out = self.fc(text_fea)\n",
    "        return out"
   ]
  },
  {
   "cell_type": "code",
   "execution_count": 31,
   "metadata": {},
   "outputs": [],
   "source": [
    "# Save and Load Functions\n",
    "\n",
    "def save_checkpoint(save_path, model, optimizer, valid_loss):\n",
    "\n",
    "    if save_path == None:\n",
    "        return\n",
    "    \n",
    "    state_dict = {'model_state_dict': model.state_dict(),\n",
    "                  'optimizer_state_dict': optimizer.state_dict(),\n",
    "                  'valid_loss': valid_loss}\n",
    "    \n",
    "    torch.save(state_dict, save_path)\n",
    "    print(f'Model saved to ==> {save_path}')\n",
    "\n",
    "\n",
    "def load_checkpoint(load_path, model, optimizer, device):\n",
    "\n",
    "    if load_path==None:\n",
    "        return\n",
    "    \n",
    "    state_dict = torch.load(load_path, map_location=device)\n",
    "    print(f'Model loaded from <== {load_path}')\n",
    "    \n",
    "    model.load_state_dict(state_dict['model_state_dict'])\n",
    "    optimizer.load_state_dict(state_dict['optimizer_state_dict'])\n",
    "    \n",
    "    return state_dict['valid_loss']\n",
    "\n",
    "\n",
    "def save_metrics(save_path, train_loss_list, valid_loss_list, global_steps_list):\n",
    "\n",
    "    if save_path == None:\n",
    "        return\n",
    "    \n",
    "    state_dict = {'train_loss_list': train_loss_list,\n",
    "                  'valid_loss_list': valid_loss_list,\n",
    "                  'global_steps_list': global_steps_list}\n",
    "    \n",
    "    torch.save(state_dict, save_path)\n",
    "    print(f'Model saved to ==> {save_path}')\n",
    "\n",
    "\n",
    "def load_metrics(load_path):\n",
    "\n",
    "    if load_path==None:\n",
    "        return\n",
    "    \n",
    "    state_dict = torch.load(load_path, map_location=device)\n",
    "    print(f'Model loaded from <== {load_path}')\n",
    "    \n",
    "    return state_dict['train_loss_list'], state_dict['valid_loss_list'], state_dict['global_steps_list']"
   ]
  },
  {
   "cell_type": "code",
   "execution_count": 32,
   "metadata": {},
   "outputs": [],
   "source": [
    "# Training Function\n",
    "\n",
    "def train(model,\n",
    "          optimizer,\n",
    "          criterion = nn.CrossEntropyLoss(),\n",
    "          train_loader = train_iter,\n",
    "          valid_loader = valid_iter,\n",
    "          num_epochs = 10,\n",
    "          eval_every = len(train_iter),\n",
    "          file_path = source_folder+'/pretrained/',\n",
    "          best_valid_loss = float(\"Inf\")):\n",
    "    \n",
    "    # initialize running values\n",
    "    running_loss = 0.0\n",
    "    valid_running_loss = 0.0\n",
    "    global_step = 0\n",
    "    train_loss_list = []\n",
    "    valid_loss_list = []\n",
    "    global_steps_list = []\n",
    "\n",
    "    # training loop\n",
    "    model.train()\n",
    "    for epoch in range(num_epochs):\n",
    "        for (labels, (text, text_len)), _ in train_loader:           \n",
    "            labels = labels.long().to(device)\n",
    "            titletext = text.to(device)\n",
    "            titletext_len = text_len.to(device)\n",
    "            output = model(titletext, titletext_len)\n",
    "            loss = criterion(output, labels)\n",
    "            optimizer.zero_grad()\n",
    "            loss.backward()\n",
    "            optimizer.step()\n",
    "\n",
    "            # update running values\n",
    "            running_loss += loss.item()\n",
    "            global_step += 1\n",
    "\n",
    "            # evaluation step\n",
    "            if global_step % eval_every == 0:\n",
    "                model.eval()\n",
    "                with torch.no_grad():\n",
    "                    \n",
    "                  # validation loop\n",
    "                    for (labels, (text, text_len)), _ in valid_loader:\n",
    "                        labels = labels.long().to(device)\n",
    "                        titletext = text.to(device)\n",
    "                        titletext_len = text_len.to(device)\n",
    "                        output = model(titletext, titletext_len)\n",
    "\n",
    "                        loss = criterion(output, labels)\n",
    "                        valid_running_loss += loss.item()\n",
    "                        _, predicted = torch.max(output, 1)\n",
    "\n",
    "                print(predicted)\n",
    "                average_train_loss = running_loss / eval_every\n",
    "                average_valid_loss = valid_running_loss / len(valid_loader)\n",
    "                train_loss_list.append(average_train_loss)\n",
    "                valid_loss_list.append(average_valid_loss)\n",
    "                global_steps_list.append(global_step)\n",
    "\n",
    "                # resetting running values\n",
    "                running_loss = 0.0                \n",
    "                valid_running_loss = 0.0\n",
    "                model.train()\n",
    "\n",
    "                # print progress\n",
    "                print('Epoch [{}/{}], Step [{}/{}], Train Loss: {:.4f}, Valid Loss: {:.4f}'\n",
    "                      .format(epoch+1, num_epochs, global_step, num_epochs*len(train_loader),\n",
    "                              average_train_loss, average_valid_loss))\n",
    "                \n",
    "                # checkpoint\n",
    "                if best_valid_loss > average_valid_loss:\n",
    "                    best_valid_loss = average_valid_loss\n",
    "                    save_checkpoint(file_path + '/model.pt', model, optimizer, best_valid_loss)\n",
    "                    save_metrics(file_path + '/metrics.pt', train_loss_list, valid_loss_list, global_steps_list)\n",
    "    \n",
    "    save_metrics(file_path + '/metrics.pt', train_loss_list, valid_loss_list, global_steps_list)\n",
    "    print('Finished Training!')"
   ]
  },
  {
   "cell_type": "code",
   "execution_count": 33,
   "metadata": {},
   "outputs": [
    {
     "data": {
      "text/plain": [
       "LSTM(\n",
       "  (embedding): Embedding(9561, 300)\n",
       "  (lstm): LSTM(300, 256, batch_first=True, bidirectional=True)\n",
       "  (drop): Dropout(p=0.2, inplace=False)\n",
       "  (fc): Linear(in_features=512, out_features=5, bias=True)\n",
       ")"
      ]
     },
     "execution_count": 33,
     "metadata": {},
     "output_type": "execute_result"
    }
   ],
   "source": [
    "model = LSTM().to(device)\n",
    "optimizer = optim.Adam(model.parameters(), lr=0.0001)\n",
    "model.train()"
   ]
  },
  {
   "cell_type": "code",
   "execution_count": 34,
   "metadata": {},
   "outputs": [
    {
     "name": "stdout",
     "output_type": "stream",
     "text": [
      "tensor([2, 3, 0, 3, 0, 2, 3, 0, 0, 3, 0, 3, 0], device='cuda:0')\n",
      "Epoch [1/20], Step [112/2240], Train Loss: 1.5932, Valid Loss: 1.5704\n",
      "Model saved to ==> /home/edshkim98/nlp/classification//pretrained//model.pt\n",
      "Model saved to ==> /home/edshkim98/nlp/classification//pretrained//metrics.pt\n",
      "tensor([2, 3, 2, 2, 2, 2, 3, 0, 0, 3, 0, 3, 0], device='cuda:0')\n",
      "Epoch [2/20], Step [224/2240], Train Loss: 1.5113, Valid Loss: 1.5261\n",
      "Model saved to ==> /home/edshkim98/nlp/classification//pretrained//model.pt\n",
      "Model saved to ==> /home/edshkim98/nlp/classification//pretrained//metrics.pt\n",
      "tensor([2, 3, 2, 2, 2, 2, 3, 0, 0, 3, 0, 3, 0], device='cuda:0')\n",
      "Epoch [3/20], Step [336/2240], Train Loss: 1.4172, Valid Loss: 1.4622\n",
      "Model saved to ==> /home/edshkim98/nlp/classification//pretrained//model.pt\n",
      "Model saved to ==> /home/edshkim98/nlp/classification//pretrained//metrics.pt\n",
      "tensor([2, 1, 0, 1, 3, 2, 3, 0, 0, 2, 0, 3, 0], device='cuda:0')\n",
      "Epoch [4/20], Step [448/2240], Train Loss: 1.2623, Valid Loss: 1.2894\n",
      "Model saved to ==> /home/edshkim98/nlp/classification//pretrained//model.pt\n",
      "Model saved to ==> /home/edshkim98/nlp/classification//pretrained//metrics.pt\n",
      "tensor([2, 1, 1, 1, 2, 0, 3, 0, 0, 2, 0, 3, 0], device='cuda:0')\n",
      "Epoch [5/20], Step [560/2240], Train Loss: 0.9460, Valid Loss: 0.9262\n",
      "Model saved to ==> /home/edshkim98/nlp/classification//pretrained//model.pt\n",
      "Model saved to ==> /home/edshkim98/nlp/classification//pretrained//metrics.pt\n",
      "tensor([2, 1, 0, 1, 2, 0, 3, 4, 1, 2, 0, 3, 0], device='cuda:0')\n",
      "Epoch [6/20], Step [672/2240], Train Loss: 0.6267, Valid Loss: 0.8250\n",
      "Model saved to ==> /home/edshkim98/nlp/classification//pretrained//model.pt\n",
      "Model saved to ==> /home/edshkim98/nlp/classification//pretrained//metrics.pt\n",
      "tensor([2, 1, 4, 1, 0, 0, 3, 4, 1, 2, 0, 3, 0], device='cuda:0')\n",
      "Epoch [7/20], Step [784/2240], Train Loss: 0.4153, Valid Loss: 0.7647\n",
      "Model saved to ==> /home/edshkim98/nlp/classification//pretrained//model.pt\n",
      "Model saved to ==> /home/edshkim98/nlp/classification//pretrained//metrics.pt\n",
      "tensor([2, 1, 1, 1, 2, 0, 3, 4, 1, 2, 0, 3, 0], device='cuda:0')\n",
      "Epoch [8/20], Step [896/2240], Train Loss: 0.3294, Valid Loss: 0.6360\n",
      "Model saved to ==> /home/edshkim98/nlp/classification//pretrained//model.pt\n",
      "Model saved to ==> /home/edshkim98/nlp/classification//pretrained//metrics.pt\n",
      "tensor([2, 1, 0, 1, 2, 0, 3, 4, 1, 2, 0, 3, 0], device='cuda:0')\n",
      "Epoch [9/20], Step [1008/2240], Train Loss: 0.2070, Valid Loss: 0.5923\n",
      "Model saved to ==> /home/edshkim98/nlp/classification//pretrained//model.pt\n",
      "Model saved to ==> /home/edshkim98/nlp/classification//pretrained//metrics.pt\n",
      "tensor([2, 1, 2, 1, 2, 0, 3, 4, 1, 2, 0, 3, 0], device='cuda:0')\n",
      "Epoch [10/20], Step [1120/2240], Train Loss: 0.1346, Valid Loss: 0.8357\n",
      "tensor([2, 1, 4, 1, 0, 0, 0, 4, 1, 2, 0, 3, 0], device='cuda:0')\n",
      "Epoch [11/20], Step [1232/2240], Train Loss: 0.1394, Valid Loss: 0.9651\n",
      "tensor([2, 1, 0, 1, 2, 0, 3, 4, 1, 2, 0, 3, 0], device='cuda:0')\n",
      "Epoch [12/20], Step [1344/2240], Train Loss: 0.1128, Valid Loss: 0.5889\n",
      "Model saved to ==> /home/edshkim98/nlp/classification//pretrained//model.pt\n",
      "Model saved to ==> /home/edshkim98/nlp/classification//pretrained//metrics.pt\n",
      "tensor([2, 1, 1, 1, 2, 0, 3, 4, 1, 2, 0, 3, 0], device='cuda:0')\n",
      "Epoch [13/20], Step [1456/2240], Train Loss: 0.0960, Valid Loss: 0.5827\n",
      "Model saved to ==> /home/edshkim98/nlp/classification//pretrained//model.pt\n",
      "Model saved to ==> /home/edshkim98/nlp/classification//pretrained//metrics.pt\n",
      "tensor([2, 1, 1, 1, 2, 0, 3, 4, 1, 2, 0, 3, 0], device='cuda:0')\n",
      "Epoch [14/20], Step [1568/2240], Train Loss: 0.0830, Valid Loss: 0.4362\n",
      "Model saved to ==> /home/edshkim98/nlp/classification//pretrained//model.pt\n",
      "Model saved to ==> /home/edshkim98/nlp/classification//pretrained//metrics.pt\n",
      "tensor([2, 1, 1, 1, 2, 0, 3, 4, 1, 2, 0, 3, 0], device='cuda:0')\n",
      "Epoch [15/20], Step [1680/2240], Train Loss: 0.0620, Valid Loss: 0.5168\n",
      "tensor([2, 1, 1, 1, 2, 0, 3, 4, 1, 2, 0, 3, 0], device='cuda:0')\n",
      "Epoch [16/20], Step [1792/2240], Train Loss: 0.0303, Valid Loss: 0.4657\n",
      "tensor([2, 1, 1, 1, 2, 0, 3, 4, 1, 2, 0, 3, 0], device='cuda:0')\n",
      "Epoch [17/20], Step [1904/2240], Train Loss: 0.0244, Valid Loss: 0.6456\n",
      "tensor([2, 1, 1, 1, 2, 0, 3, 4, 1, 2, 0, 3, 0], device='cuda:0')\n",
      "Epoch [18/20], Step [2016/2240], Train Loss: 0.0684, Valid Loss: 0.5001\n",
      "tensor([2, 1, 1, 1, 2, 0, 3, 4, 1, 2, 0, 3, 0], device='cuda:0')\n",
      "Epoch [19/20], Step [2128/2240], Train Loss: 0.0516, Valid Loss: 0.5098\n",
      "tensor([2, 1, 1, 1, 2, 0, 3, 4, 1, 2, 0, 3, 0], device='cuda:0')\n",
      "Epoch [20/20], Step [2240/2240], Train Loss: 0.0272, Valid Loss: 0.4981\n",
      "Model saved to ==> /home/edshkim98/nlp/classification//pretrained//metrics.pt\n",
      "Finished Training!\n"
     ]
    }
   ],
   "source": [
    "train(model=model, optimizer=optimizer, num_epochs=20)\n"
   ]
  },
  {
   "cell_type": "code",
   "execution_count": 35,
   "metadata": {},
   "outputs": [
    {
     "name": "stdout",
     "output_type": "stream",
     "text": [
      "Model loaded from <== /home/edshkim98/nlp/classification/pretrained/metrics.pt\n"
     ]
    },
    {
     "data": {
      "image/png": "[encoded data removed]",
      "text/plain": [
       "<Figure size 432x288 with 1 Axes>"
      ]
     },
     "metadata": {
      "needs_background": "light"
     },
     "output_type": "display_data"
    }
   ],
   "source": [
    "train_loss_list, valid_loss_list, global_steps_list = load_metrics(destination_folder + '/metrics.pt')\n",
    "plt.plot(global_steps_list, train_loss_list, label='Train')\n",
    "plt.plot(global_steps_list, valid_loss_list, label='Valid')\n",
    "plt.xlabel('Global Steps')\n",
    "plt.ylabel('Loss')\n",
    "plt.legend()\n",
    "plt.show() "
   ]
  },
  {
   "cell_type": "code",
   "execution_count": 38,
   "metadata": {},
   "outputs": [
    {
     "name": "stdout",
     "output_type": "stream",
     "text": [
      "Model loaded from <== /home/edshkim98/nlp/classification/pretrained/model.pt\n"
     ]
    },
    {
     "name": "stderr",
     "output_type": "stream",
     "text": [
      "/home/edshkim98/env/lib/python3.7/site-packages/torchtext/data/batch.py:23: UserWarning: Batch class will be retired soon and moved to torchtext.legacy. Please see the most recent release notes for further information.\n",
      "  warnings.warn('{} class will be retired soon and moved to torchtext.legacy. Please see the most recent release notes for further information.'.format(self.__class__.__name__), UserWarning)\n"
     ]
    },
    {
     "name": "stdout",
     "output_type": "stream",
     "text": [
      "Classification Report:\n",
      "              precision    recall  f1-score   support\n",
      "\n",
      "           0     0.9130    0.7850    0.8442       107\n",
      "           1     0.8857    0.8052    0.8435        77\n",
      "           2     0.8295    0.8902    0.8588        82\n",
      "           3     0.8860    0.9619    0.9224       105\n",
      "           4     0.7654    0.8378    0.8000        74\n",
      "\n",
      "    accuracy                         0.8584       445\n",
      "   macro avg     0.8559    0.8560    0.8538       445\n",
      "weighted avg     0.8620    0.8584    0.8579       445\n",
      "\n"
     ]
    },
    {
     "data": {
      "image/png": "[encoded data removed]",
      "text/plain": [
       "<Figure size 432x288 with 2 Axes>"
      ]
     },
     "metadata": {
      "needs_background": "light"
     },
     "output_type": "display_data"
    }
   ],
   "source": [
    "# Evaluation Function\n",
    "\n",
    "def evaluate(model, test_loader, version='title', threshold=0.5):\n",
    "    y_pred = []\n",
    "    y_true = []\n",
    "\n",
    "    model.eval()\n",
    "    with torch.no_grad():\n",
    "        for (labels, (text, text_len)), _ in test_loader:           \n",
    "            labels = labels.long().to(device)\n",
    "            titletext = text.to(device)\n",
    "            titletext_len = text_len.to(device)\n",
    "            output = model(titletext, titletext_len)\n",
    "\n",
    "            _, predicted = torch.max(output, 1)\n",
    "            y_pred.extend(predicted.tolist())\n",
    "            y_true.extend(labels.tolist())\n",
    "    \n",
    "    print('Classification Report:')\n",
    "    print(classification_report(y_true, y_pred, digits=4))\n",
    "    \n",
    "    cm = confusion_matrix(y_true, y_pred)\n",
    "    ax= plt.subplot()\n",
    "    sns.heatmap(cm, annot=True, ax = ax, cmap='Blues', fmt=\"d\")\n",
    "\n",
    "    ax.set_title('Confusion Matrix')\n",
    "\n",
    "    ax.set_xlabel('Predicted Labels')\n",
    "    ax.set_ylabel('True Labels')\n",
    "\n",
    "    ax.xaxis.set_ticklabels(['business', 'tech', 'politics','sport','entertainment'])\n",
    "    ax.yaxis.set_ticklabels(['business', 'tech', 'politics','sport','entertainment'])\n",
    "    \n",
    "    \n",
    "best_model = LSTM().to(device)\n",
    "optimizer = optim.Adam(best_model.parameters(), lr=0.001)\n",
    "\n",
    "load_checkpoint(destination_folder + '/model.pt', best_model, optimizer,device=device)\n",
    "evaluate(best_model, valid_iter)"
   ]
  },
  {
   "cell_type": "code",
   "execution_count": 37,
   "metadata": {},
   "outputs": [],
   "source": [
    "labels = {\"business\":0,\"tech\":1, \"politics\":2, \"sport\":3, \"entertainment\":4}"
   ]
  },
  {
   "cell_type": "code",
   "execution_count": null,
   "metadata": {},
   "outputs": [],
   "source": []
  },
  {
   "cell_type": "markdown",
   "metadata": {},
   "source": [
    "Testing in cpu"
   ]
  },
  {
   "cell_type": "code",
   "execution_count": 35,
   "metadata": {},
   "outputs": [],
   "source": [
    "def test_single(model, test_loader):\n",
    "    labels_dict = {0:\"business\",1:\"tech\", 2:\"politics\", 3:\"sport\", 4:\"entertainment\"}\n",
    "    y_pred = []\n",
    "    y_true = []\n",
    "\n",
    "    model.eval()\n",
    "    with torch.no_grad():\n",
    "        for (labels, (text, text_len)), _ in test_loader:           \n",
    "            labels = labels.long()#.to(device)\n",
    "            titletext = text#.to(device)\n",
    "            titletext_len = text_len#.to(device)\n",
    "            output = model(titletext, titletext_len)\n",
    "\n",
    "            _, predicted = torch.max(output, 1)\n",
    "            y_pred.extend(predicted.tolist())\n",
    "            y_true.extend(labels.tolist())\n",
    "    print(labels_dict[int(predicted)])\n",
    "    \n",
    "def test_whole(model, test_loader, device):\n",
    "    y_pred = []\n",
    "    y_true = []\n",
    "\n",
    "    model.eval()\n",
    "    with torch.no_grad():\n",
    "        for (labels, (text, text_len)), _ in test_loader:           \n",
    "            labels = labels.long().to(device)\n",
    "            titletext = text.to(device)\n",
    "            titletext_len = text_len.to(device)\n",
    "            output = model(titletext, titletext_len)\n",
    "\n",
    "            _, predicted = torch.max(output, 1)\n",
    "            y_pred.extend(predicted.tolist())\n",
    "            y_true.extend(labels.tolist())\n",
    "    \n",
    "    print('Classification Report:')\n",
    "    print(classification_report(y_true, y_pred, digits=4))\n",
    "    cm = confusion_matrix(y_true, y_pred)\n",
    "    ax= plt.subplot()\n",
    "    sns.heatmap(cm, annot=True, ax = ax, cmap='Blues', fmt=\"d\")\n",
    "\n",
    "    ax.set_title('Confusion Matrix')\n",
    "\n",
    "    ax.set_xlabel('Predicted Labels')\n",
    "    ax.set_ylabel('True Labels')\n",
    "\n",
    "    ax.xaxis.set_ticklabels(['business', 'tech', 'politics','sport','entertainment'])\n",
    "    ax.yaxis.set_ticklabels(['business', 'tech', 'politics','sport','entertainment'])"
   ]
  },
  {
   "cell_type": "code",
   "execution_count": 36,
   "metadata": {},
   "outputs": [
    {
     "name": "stdout",
     "output_type": "stream",
     "text": [
      "Model loaded from <== /home/edshkim98/nlp/classification/pretrained/model.pt\n"
     ]
    },
    {
     "data": {
      "text/plain": [
       "LSTM(\n",
       "  (embedding): Embedding(9561, 300)\n",
       "  (lstm): LSTM(300, 256, batch_first=True, bidirectional=True)\n",
       "  (drop): Dropout(p=0.2, inplace=False)\n",
       "  (fc): Linear(in_features=512, out_features=5, bias=True)\n",
       ")"
      ]
     },
     "execution_count": 36,
     "metadata": {},
     "output_type": "execute_result"
    }
   ],
   "source": [
    "best_model = LSTM().to(device)\n",
    "load_checkpoint(destination_folder + '/model.pt', best_model, optimizer,device=device)\n",
    "best_model"
   ]
  },
  {
   "cell_type": "code",
   "execution_count": 37,
   "metadata": {},
   "outputs": [
    {
     "name": "stdout",
     "output_type": "stream",
     "text": [
      "Classification Report:\n",
      "              precision    recall  f1-score   support\n",
      "\n",
      "           0     0.8164    0.7412    0.7770       510\n",
      "           1     0.7046    0.8030    0.7506       401\n",
      "           2     0.7545    0.7962    0.7748       417\n",
      "           3     0.8797    0.8297    0.8540       511\n",
      "           4     0.7441    0.7383    0.7412       386\n",
      "\n",
      "    accuracy                         0.7825      2225\n",
      "   macro avg     0.7799    0.7817    0.7795      2225\n",
      "weighted avg     0.7867    0.7825    0.7833      2225\n",
      "\n"
     ]
    },
    {
     "data": {
      "image/png": "[encoded data removed]",
      "text/plain": [
       "<Figure size 432x288 with 2 Axes>"
      ]
     },
     "metadata": {
      "needs_background": "light"
     },
     "output_type": "display_data"
    }
   ],
   "source": [
    "test_whole(best_model, sample_iter,device=device)"
   ]
  },
  {
   "cell_type": "code",
   "execution_count": null,
   "metadata": {},
   "outputs": [],
   "source": []
  }
 ],
 "metadata": {
  "kernelspec": {
   "display_name": "env",
   "language": "python",
   "name": "env"
  },
  "language_info": {
   "codemirror_mode": {
    "name": "ipython",
    "version": 3
   },
   "file_extension": ".py",
   "mimetype": "text/x-python",
   "name": "python",
   "nbconvert_exporter": "python",
   "pygments_lexer": "ipython3",
   "version": "3.7.8"
  }
 },
 "nbformat": 4,
 "nbformat_minor": 4
}
